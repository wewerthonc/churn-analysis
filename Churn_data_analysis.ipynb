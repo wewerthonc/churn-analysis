{
  "nbformat": 4,
  "nbformat_minor": 0,
  "metadata": {
    "colab": {
      "provenance": []
    },
    "kernelspec": {
      "name": "python3",
      "display_name": "Python 3"
    },
    "language_info": {
      "name": "python"
    }
  },
  "cells": [
    {
      "cell_type": "code",
      "execution_count": 253,
      "metadata": {
        "id": "N801K9PLJOTA"
      },
      "outputs": [],
      "source": [
        "from google.colab import drive\n",
        "import matplotlib.pyplot as plt\n",
        "import seaborn as sns\n",
        "import numpy as np\n",
        "import pandas as pd"
      ]
    },
    {
      "cell_type": "code",
      "source": [
        "drive.mount('/content/MyDrive')\n",
        "PATH_BASE = '/content/MyDrive/MyDrive/Datasets/'"
      ],
      "metadata": {
        "colab": {
          "base_uri": "https://localhost:8080/"
        },
        "id": "Awg2YMh7Jb9P",
        "outputId": "4ecc8672-220e-4a86-b4c2-4b4948aa99ff"
      },
      "execution_count": 254,
      "outputs": [
        {
          "output_type": "stream",
          "name": "stdout",
          "text": [
            "Drive already mounted at /content/MyDrive; to attempt to forcibly remount, call drive.mount(\"/content/MyDrive\", force_remount=True).\n"
          ]
        }
      ]
    },
    {
      "cell_type": "code",
      "source": [
        "# Define the column names \n",
        "cols = ['id', 'created_at', 'updated_at', 'deleted_at','birth_date', 'status','version', 'city', \n",
        "        'state', 'neighborhood', 'last_date_purchase', 'average_ticket', 'items_quantity', 'all_revenue', \n",
        "        'all_orders', 'recency','marketing_source']\n",
        "\n",
        "# Define the column names to convert to date\n",
        "date_cols = ['created_at', 'updated_at', 'deleted_at', 'birth_date', 'last_date_purchase']\n",
        "\n",
        "# Read the CSV file and convert specified columns to datetime\n",
        "churn_df = pd.read_csv(PATH_BASE + \"data-test-analytics.csv\", usecols = cols, parse_dates = date_cols)"
      ],
      "metadata": {
        "id": "LHIhAgWVQbWl"
      },
      "execution_count": 255,
      "outputs": []
    },
    {
      "cell_type": "markdown",
      "source": [
        "#Cleaning data"
      ],
      "metadata": {
        "id": "sm0ct9lqcCzW"
      }
    },
    {
      "cell_type": "code",
      "source": [
        "churn_df.info()"
      ],
      "metadata": {
        "colab": {
          "base_uri": "https://localhost:8080/"
        },
        "id": "sn4L2oUoym_a",
        "outputId": "4bc088e0-acf6-4193-a50d-09f34a4c6a6e"
      },
      "execution_count": 256,
      "outputs": [
        {
          "output_type": "stream",
          "name": "stdout",
          "text": [
            "<class 'pandas.core.frame.DataFrame'>\n",
            "RangeIndex: 10000 entries, 0 to 9999\n",
            "Data columns (total 17 columns):\n",
            " #   Column              Non-Null Count  Dtype         \n",
            "---  ------              --------------  -----         \n",
            " 0   id                  10000 non-null  object        \n",
            " 1   created_at          10000 non-null  datetime64[ns]\n",
            " 2   updated_at          10000 non-null  datetime64[ns]\n",
            " 3   deleted_at          505 non-null    datetime64[ns]\n",
            " 4   birth_date          10000 non-null  datetime64[ns]\n",
            " 5   status              10000 non-null  object        \n",
            " 6   version             10000 non-null  object        \n",
            " 7   city                10000 non-null  object        \n",
            " 8   state               10000 non-null  object        \n",
            " 9   neighborhood        10000 non-null  object        \n",
            " 10  last_date_purchase  10000 non-null  datetime64[ns]\n",
            " 11  average_ticket      10000 non-null  float64       \n",
            " 12  items_quantity      10000 non-null  int64         \n",
            " 13  all_revenue         10000 non-null  float64       \n",
            " 14  all_orders          10000 non-null  int64         \n",
            " 15  recency             10000 non-null  int64         \n",
            " 16  marketing_source    10000 non-null  object        \n",
            "dtypes: datetime64[ns](5), float64(2), int64(3), object(7)\n",
            "memory usage: 1.3+ MB\n"
          ]
        }
      ]
    },
    {
      "cell_type": "code",
      "source": [
        "# Check data types\n",
        "churn_df.dtypes"
      ],
      "metadata": {
        "colab": {
          "base_uri": "https://localhost:8080/"
        },
        "id": "Jcrrj3mYcF42",
        "outputId": "f4ddd8bb-d91d-4695-a547-312a7f0f4072"
      },
      "execution_count": 257,
      "outputs": [
        {
          "output_type": "execute_result",
          "data": {
            "text/plain": [
              "id                            object\n",
              "created_at            datetime64[ns]\n",
              "updated_at            datetime64[ns]\n",
              "deleted_at            datetime64[ns]\n",
              "birth_date            datetime64[ns]\n",
              "status                        object\n",
              "version                       object\n",
              "city                          object\n",
              "state                         object\n",
              "neighborhood                  object\n",
              "last_date_purchase    datetime64[ns]\n",
              "average_ticket               float64\n",
              "items_quantity                 int64\n",
              "all_revenue                  float64\n",
              "all_orders                     int64\n",
              "recency                        int64\n",
              "marketing_source              object\n",
              "dtype: object"
            ]
          },
          "metadata": {},
          "execution_count": 257
        }
      ]
    },
    {
      "cell_type": "code",
      "source": [
        "# Check if there are null values\n",
        "churn_df.isna().sum()"
      ],
      "metadata": {
        "colab": {
          "base_uri": "https://localhost:8080/"
        },
        "id": "-k6I7pbuqgI_",
        "outputId": "e61aa7f0-79bb-4713-93c2-570548fccb90"
      },
      "execution_count": 258,
      "outputs": [
        {
          "output_type": "execute_result",
          "data": {
            "text/plain": [
              "id                       0\n",
              "created_at               0\n",
              "updated_at               0\n",
              "deleted_at            9495\n",
              "birth_date               0\n",
              "status                   0\n",
              "version                  0\n",
              "city                     0\n",
              "state                    0\n",
              "neighborhood             0\n",
              "last_date_purchase       0\n",
              "average_ticket           0\n",
              "items_quantity           0\n",
              "all_revenue              0\n",
              "all_orders               0\n",
              "recency                  0\n",
              "marketing_source         0\n",
              "dtype: int64"
            ]
          },
          "metadata": {},
          "execution_count": 258
        }
      ]
    },
    {
      "cell_type": "markdown",
      "source": [
        "Data out of range"
      ],
      "metadata": {
        "id": "gdBj00FCjcmf"
      }
    },
    {
      "cell_type": "code",
      "source": [
        "from datetime import date\n",
        "\n",
        "# Check for out of range values in datetime columns\n",
        "date_cols = churn_df.select_dtypes(include=['datetime64']).columns\n",
        "for col in date_cols:\n",
        "    num_out_of_range = len(churn_df[churn_df[col].dt.date > date.today()])\n",
        "    print(f\"Number of '{col}' rows out of range: {num_out_of_range}\")\n",
        "\n",
        "# Check for negative values in numeric columns\n",
        "num_cols = churn_df.select_dtypes(include=['int64', 'float64']).columns\n",
        "for col in num_cols:\n",
        "    num_negative = len(churn_df[churn_df[col] < 0])\n",
        "    print(f\"Number of '{col}' rows out of range: {num_negative}\")"
      ],
      "metadata": {
        "colab": {
          "base_uri": "https://localhost:8080/"
        },
        "id": "_r36uONW1K1x",
        "outputId": "cb239281-afcf-4014-9a29-008b5bca13a0"
      },
      "execution_count": 259,
      "outputs": [
        {
          "output_type": "stream",
          "name": "stdout",
          "text": [
            "Number of 'created_at' rows out of range: 0\n",
            "Number of 'updated_at' rows out of range: 0\n",
            "Number of 'deleted_at' rows out of range: 0\n",
            "Number of 'birth_date' rows out of range: 5849\n",
            "Number of 'last_date_purchase' rows out of range: 0\n",
            "Number of 'average_ticket' rows out of range: 0\n",
            "Number of 'items_quantity' rows out of range: 0\n",
            "Number of 'all_revenue' rows out of range: 0\n",
            "Number of 'all_orders' rows out of range: 0\n",
            "Number of 'recency' rows out of range: 0\n"
          ]
        }
      ]
    },
    {
      "cell_type": "code",
      "source": [
        "# Drop 'birth_date' column\n",
        "churn_df.drop('birth_date', axis = 1, inplace = True)"
      ],
      "metadata": {
        "id": "sBTsA-4pkN-o"
      },
      "execution_count": 260,
      "outputs": []
    },
    {
      "cell_type": "markdown",
      "source": [
        "Duplicated data"
      ],
      "metadata": {
        "id": "xQ6Z9ueclFda"
      }
    },
    {
      "cell_type": "code",
      "source": [
        "# Drop duplicates across all columns\n",
        "churn_df.drop_duplicates(inplace = True)\n",
        "\n",
        "# Drop duplicated rows that have the same id\n",
        "churn_df.drop_duplicates('id', inplace = True)\n",
        "\n",
        "# Clients created at the same time\n",
        "churn_df[churn_df.duplicated(subset = ['created_at'], keep = False)].sort_values('created_at')"
      ],
      "metadata": {
        "colab": {
          "base_uri": "https://localhost:8080/",
          "height": 1000
        },
        "id": "dTCv5OGqlgoD",
        "outputId": "a24f0c6a-2455-4b79-c905-d84a8e401d7d"
      },
      "execution_count": 261,
      "outputs": [
        {
          "output_type": "execute_result",
          "data": {
            "text/plain": [
              "                                        id          created_at  \\\n",
              "6254  61422392-131d-40e9-87df-33456b4eeac2 2016-02-28 19:47:00   \n",
              "1547  b034824f-1802-44d7-9d8b-a436aa9cea6e 2016-02-28 19:47:00   \n",
              "2435  814030bf-0880-453e-b2c8-6364083ced2e 2016-05-07 02:55:00   \n",
              "1052  b5d59cbc-5fab-41b4-9627-a9fce3647317 2016-05-07 02:55:00   \n",
              "9819  2d61bf9c-5309-48e1-a801-c08735508cee 2016-06-26 06:47:00   \n",
              "8613  ee6550a2-b9ac-4496-9d4c-0871f380f4a6 2016-06-26 06:47:00   \n",
              "29    f1a447fc-d9f7-4d7f-81f9-29ad2828e8d8 2016-11-06 20:45:00   \n",
              "1102  09ef39d4-fc62-4672-b017-989cfa2378cf 2016-11-06 20:45:00   \n",
              "363   c629b9a7-b0a5-4200-821e-5181b0708e77 2017-02-11 17:18:00   \n",
              "572   8393c66d-3f5c-473b-98c1-afdc9b9838e3 2017-02-11 17:18:00   \n",
              "6361  0852585e-81e7-4485-9a1f-646c10f136e5 2017-03-18 17:21:00   \n",
              "5049  55e7ebbe-ca87-41a8-ae80-80efbf508c01 2017-03-18 17:21:00   \n",
              "8492  0d3afaba-dc11-4d1a-9303-4698620a66e2 2017-08-12 12:20:00   \n",
              "5291  5893bbef-1205-4f29-86dd-5ffcc1befcc9 2017-08-12 12:20:00   \n",
              "1020  7efd9fc1-2871-46c8-a9ac-2da783fbaf7c 2017-10-16 02:32:00   \n",
              "6584  6ffd49de-6251-42d2-89cd-e5ce4dbbe1de 2017-10-16 02:32:00   \n",
              "8600  7d0da5db-f290-4c58-b71e-248f2da34138 2017-10-18 09:37:00   \n",
              "664   a7b548e3-1b3e-4086-ad79-8af6b7886584 2017-10-18 09:37:00   \n",
              "3275  e777b7ae-f695-4073-a136-958cbc09720c 2017-11-28 04:07:00   \n",
              "4943  115a5471-9473-4acd-b968-f213cf659e90 2017-11-28 04:07:00   \n",
              "6740  63693527-9eb7-4dcc-a660-56675980c429 2018-01-22 19:42:00   \n",
              "5930  63a4f1c2-7cb6-4e42-a670-df2875b54d4b 2018-01-22 19:42:00   \n",
              "184   95f46fea-def3-4000-b601-604f167661b1 2018-03-06 08:05:00   \n",
              "8151  2063f20d-ec4f-489d-bf2d-4053eddbbe6a 2018-03-06 08:05:00   \n",
              "4787  b27b868e-e1db-4c3d-a92b-ebfc8993b579 2018-03-26 21:04:00   \n",
              "9933  8b1ec928-085e-4a53-9040-a5d1017152a3 2018-03-26 21:04:00   \n",
              "8077  857d6927-8673-4c23-a50c-3faa87087177 2018-07-29 23:50:00   \n",
              "9953  03d2174f-7cf2-4f02-9be7-7619f7b7a597 2018-07-29 23:50:00   \n",
              "1937  5a2d4c5e-21ab-4c07-9713-70d847323565 2018-08-25 04:16:00   \n",
              "562   76e20df2-e386-4d80-900b-2e8c0e0b1fe7 2018-08-25 04:16:00   \n",
              "849   57d2eaf1-5b8d-452d-a497-80ce78df2ef6 2018-11-26 19:48:00   \n",
              "6013  c5d808cc-7fe7-4eaa-8362-8505ec1db219 2018-11-26 19:48:00   \n",
              "5726  bceb05d8-8615-4a5d-ae45-53c54098ff24 2019-03-25 13:41:00   \n",
              "4592  df123b64-26b7-4776-bdb7-4f88683d36d9 2019-03-25 13:41:00   \n",
              "3561  204727dd-ab55-44c1-9456-c4ee8f146164 2019-03-27 09:45:00   \n",
              "5157  56db27ee-c862-48a2-a9aa-8a3110a60e0e 2019-03-27 09:45:00   \n",
              "6687  b19300d3-46b6-422f-8740-3f98ded4013f 2019-06-24 18:21:00   \n",
              "5365  09299fa8-6130-4da0-8652-a61c3d1f0d2e 2019-06-24 18:21:00   \n",
              "5615  3d9183e6-622b-405b-a554-2c74c3e1c65f 2019-09-03 23:08:00   \n",
              "6730  7c3ffc49-eb10-49a0-8206-f403055cc354 2019-09-03 23:08:00   \n",
              "2769  3aef6d47-ab9e-4864-a486-30c9e5b616d8 2019-10-12 01:33:00   \n",
              "5960  06aa360d-7705-4afa-a915-66a414d37e1e 2019-10-12 01:33:00   \n",
              "8177  b76ffd87-f7b9-415b-b021-21ab9aa0799c 2019-10-17 11:07:00   \n",
              "2348  5e6a326d-0574-437d-9239-f154066b38a4 2019-10-17 11:07:00   \n",
              "6744  189812b9-f1e6-445d-bbbc-2a59aa2e1903 2020-02-20 00:47:00   \n",
              "2593  ab64f731-1588-4224-86d3-17e5154bc818 2020-02-20 00:47:00   \n",
              "8578  6d333a42-0d96-4c9e-b521-5300fccd54cd 2020-04-15 06:34:00   \n",
              "1417  04144cf0-c5a3-4c3d-a9e0-28b410ebce41 2020-04-15 06:34:00   \n",
              "2249  88a683d5-a492-4aa7-8e06-6463614c5a54 2021-02-11 05:43:00   \n",
              "148   1767f040-ba75-419e-8a9a-0c1db35e6550 2021-02-11 05:43:00   \n",
              "\n",
              "              updated_at          deleted_at    status  version  \\\n",
              "6254 2021-01-23 11:23:00                 NaT    active   4.8.10   \n",
              "1547 2021-01-08 11:23:00                 NaT    active  4.16.10   \n",
              "2435 2021-01-12 11:23:00                 NaT    active   2.14.3   \n",
              "1052 2021-01-17 11:23:00                 NaT    active   5.40.6   \n",
              "9819 2021-01-06 11:23:00                 NaT    active   3.33.5   \n",
              "8613 2021-01-24 11:23:00                 NaT    active  3.26.14   \n",
              "29   2021-01-10 11:23:00                 NaT    active  3.22.10   \n",
              "1102 2021-01-16 11:23:00                 NaT    active  3.34.10   \n",
              "363  2021-01-06 11:23:00                 NaT    active    4.7.8   \n",
              "572  2021-01-03 11:23:00                 NaT    active   5.11.4   \n",
              "6361 2019-03-14 09:28:00 2019-03-14 09:28:00  canceled   4.10.8   \n",
              "5049 2021-01-19 11:23:00                 NaT    active    3.8.0   \n",
              "8492 2021-01-23 11:23:00                 NaT    active  3.29.12   \n",
              "5291 2021-01-13 11:23:00                 NaT    active   3.21.7   \n",
              "1020 2020-12-29 11:23:00                 NaT    active   4.32.2   \n",
              "6584 2021-01-12 11:23:00                 NaT    active  2.23.11   \n",
              "8600 2021-01-12 11:23:00                 NaT    active   5.41.8   \n",
              "664  2021-01-12 11:23:00                 NaT    active    3.1.6   \n",
              "3275 2021-01-12 11:23:00                 NaT    active  2.10.11   \n",
              "4943 2021-01-14 11:23:00                 NaT    active   3.27.5   \n",
              "6740 2021-01-12 11:23:00                 NaT    active  3.33.10   \n",
              "5930 2021-01-18 11:23:00                 NaT    active   4.17.2   \n",
              "184  2021-01-19 11:23:00                 NaT    active   5.24.2   \n",
              "8151 2021-01-11 11:23:00                 NaT    active   3.53.4   \n",
              "4787 2021-01-04 11:23:00                 NaT    paused   2.31.6   \n",
              "9933 2021-01-15 11:23:00                 NaT    active   4.38.5   \n",
              "8077 2021-01-18 11:23:00                 NaT    active   3.17.9   \n",
              "9953 2021-01-03 11:23:00                 NaT    active  5.52.11   \n",
              "1937 2021-01-22 11:23:00                 NaT    paused   5.15.9   \n",
              "562  2019-01-06 14:48:00 2019-01-06 14:48:00  canceled   4.43.8   \n",
              "849  2021-01-09 11:23:00                 NaT    active   4.24.3   \n",
              "6013 2021-01-07 11:23:00                 NaT    active   4.16.8   \n",
              "5726 2021-01-22 11:23:00                 NaT    active   5.20.7   \n",
              "4592 2021-01-19 11:23:00                 NaT    active  5.32.11   \n",
              "3561 2021-01-24 11:23:00                 NaT    active  3.16.14   \n",
              "5157 2021-01-07 11:23:00                 NaT    active   2.18.9   \n",
              "6687 2021-01-13 11:23:00                 NaT    active   3.16.8   \n",
              "5365 2021-01-19 11:23:00                 NaT    active  7.46.10   \n",
              "5615 2021-01-15 11:23:00                 NaT    active   4.37.8   \n",
              "6730 2021-01-13 11:23:00                 NaT    active   5.33.6   \n",
              "2769 2021-01-30 11:23:00                 NaT    active   4.25.7   \n",
              "5960 2021-01-22 11:23:00                 NaT    active   4.22.5   \n",
              "8177 2021-01-23 11:23:00                 NaT    active   2.38.0   \n",
              "2348 2021-01-21 11:23:00                 NaT    active   4.38.8   \n",
              "6744 2021-01-18 11:23:00                 NaT    active   2.40.5   \n",
              "2593 2021-01-25 11:23:00                 NaT    active   3.21.3   \n",
              "8578 2021-01-18 11:23:00                 NaT    active  2.28.12   \n",
              "1417 2021-01-21 11:23:00                 NaT    active   3.36.9   \n",
              "2249 2021-01-05 11:23:00                 NaT    active   5.28.9   \n",
              "148  2021-01-09 11:23:00                 NaT    active  2.33.10   \n",
              "\n",
              "                        city state                   neighborhood  \\\n",
              "6254                 da Rosa    TO                  Salgado Filho   \n",
              "1547     Cavalcanti da Serra    MG           Vitoria Da Conquista   \n",
              "2435                Teixeira    AL                         Mirtes   \n",
              "1052                 da Cruz    RJ                     Vila De Sá   \n",
              "9819               Gonçalves    PE                    Vila Maloca   \n",
              "8613             Pinto Verde    AM                       Ipiranga   \n",
              "29                    Novaes    MT                       Cenaculo   \n",
              "1102   das Neves de Monteiro    PI                 Vale Do Jatoba   \n",
              "363         Moreira de Ramos    DF                          Graça   \n",
              "572                  Pereira    MA                     Marilandia   \n",
              "6361        Carvalho da Mata    RS                  Vila Ipiranga   \n",
              "5049                 Barbosa    SC    Vila Piratininga Venda Nova   \n",
              "8492                 Correia    RS                    Serra Verde   \n",
              "5291                 Barbosa    BA  Vila Madre Gertrudes 1ª Seção   \n",
              "1020           Campos do Sul    BA         Conjunto Califórnia Ii   \n",
              "6584                da Rocha    MS                   Minas Brasil   \n",
              "8600                Teixeira    MS           Alta Tensão 1ª Seção   \n",
              "664     das Neves das Flores    DF           Pedreira Padro Lopes   \n",
              "3275                   Cunha    MS               Vila São Geraldo   \n",
              "4943                  Barros    SE     Conjunto Jardim Filadélfia   \n",
              "6740                Oliveira    PE                       Palmares   \n",
              "5930            Duarte Verde    GO                     Dom Cabral   \n",
              "184                 da Cunha    PR                        Lindéia   \n",
              "8151                 Pereira    AL                     Marilandia   \n",
              "4787                 da Mata    RR                   Olhos D'água   \n",
              "9933                 Cardoso    PA                       Apolonia   \n",
              "8077               das Neves    PA                          Trevo   \n",
              "9953                 Cardoso    AL               Engenho Nogueira   \n",
              "1937        da Paz do Amparo    RR                       Virgínia   \n",
              "562                  da Rosa    ES                         Itaipu   \n",
              "849               Nascimento    GO                     Vila Pilar   \n",
              "6013                Oliveira    RJ                 Vale Do Jatoba   \n",
              "5726    Costela dos Dourados    ES              Vila Vista Alegre   \n",
              "4592                   Pinto    PI                     Vila Pilar   \n",
              "3561     da Mata de Nogueira    TO                  Inconfidência   \n",
              "5157                 Pereira    MA                       São Luiz   \n",
              "6687                    Melo    SP                Chácara Leonina   \n",
              "5365                da Cunha    PI                      Vila Sesc   \n",
              "5615           Moreira Verde    DF                          Outro   \n",
              "6730                   Porto    RR                 Jardim América   \n",
              "2769                  Aragão    AC                          Pilar   \n",
              "5960        Alves de Cardoso    AC                     São Marcos   \n",
              "8177                   Jesus    RS   Vila Nova Gameleira 3ª Seção   \n",
              "2348           Porto de Melo    RN                        Paquetá   \n",
              "6744            Nunes do Sul    AM                       Araguaia   \n",
              "2593      Almeida das Pedras    TO                     Califórnia   \n",
              "8578               das Neves    MA                     Candelaria   \n",
              "1417         Duarte de Goiás    RO                        Serrano   \n",
              "2249                  Duarte    TO                Conjunto Jatoba   \n",
              "148                   Moraes    RR                    Dom Joaquim   \n",
              "\n",
              "      last_date_purchase  average_ticket  items_quantity  all_revenue  \\\n",
              "6254 2021-01-23 11:23:00      203.280044               5  2236.080484   \n",
              "1547 2021-01-08 11:23:00      174.783567               9  1922.619237   \n",
              "2435 2021-01-12 11:23:00      224.664451               4  2021.980060   \n",
              "1052 2021-01-17 11:23:00      208.142382              10  1873.281442   \n",
              "9819 2021-01-06 11:23:00      217.157640              11  1520.103481   \n",
              "8613 2021-01-24 11:23:00      226.951651               6  1588.661554   \n",
              "29   2021-01-10 11:23:00      203.883422               5   611.650267   \n",
              "1102 2021-01-16 11:23:00      161.213244               9   483.639731   \n",
              "363  2021-01-06 11:23:00      185.323127              10     0.000000   \n",
              "572  2021-01-03 11:23:00      167.994806              12     0.000000   \n",
              "6361 2017-07-04 19:20:00      249.241697               9  2741.658667   \n",
              "5049 2021-01-19 11:23:00      218.319665               5  2183.196647   \n",
              "8492 2021-01-23 11:23:00      230.374176               8  1382.245055   \n",
              "5291 2021-01-13 11:23:00      208.682098               6  1252.092587   \n",
              "1020 2020-12-29 11:23:00      219.166040              11   876.664158   \n",
              "6584 2021-01-12 11:23:00      217.478198               8   869.912791   \n",
              "8600 2021-01-12 11:23:00      220.133946               9   660.401839   \n",
              "664  2021-01-12 11:23:00      210.913558               8   632.740673   \n",
              "3275 2021-01-12 11:23:00      244.054888               9   488.109777   \n",
              "4943 2021-01-14 11:23:00      204.192580               5   408.385159   \n",
              "6740 2021-01-12 11:23:00      212.479745               8     0.000000   \n",
              "5930 2021-01-18 11:23:00      252.863345               6     0.000000   \n",
              "184  2021-01-19 11:23:00      201.537424              15  2216.911666   \n",
              "8151 2021-01-11 11:23:00      223.087737              12  2453.965110   \n",
              "4787 2021-01-04 11:23:00      196.940340               9  1969.403405   \n",
              "9933 2021-01-15 11:23:00      227.867634               5  2278.676340   \n",
              "8077 2021-01-18 11:23:00      251.960699              13  1511.764191   \n",
              "9953 2021-01-03 11:23:00      258.653631              10  1551.921783   \n",
              "1937 2021-01-22 11:23:00      174.505215               7   872.526075   \n",
              "562  2018-09-12 04:44:00      183.844847               9   735.379389   \n",
              "849  2021-01-09 11:23:00      207.569887               7   415.139775   \n",
              "6013 2021-01-07 11:23:00      237.092643               5   474.185286   \n",
              "5726 2021-01-22 11:23:00      239.030375               8  2390.303753   \n",
              "4592 2021-01-19 11:23:00      215.777453              12  2157.774529   \n",
              "3561 2021-01-24 11:23:00      235.436161              13  2354.361613   \n",
              "5157 2021-01-07 11:23:00      218.390634              10  2183.906343   \n",
              "6687 2021-01-13 11:23:00      206.827967              10  1447.795767   \n",
              "5365 2021-01-19 11:23:00      216.719772               7  1517.038407   \n",
              "5615 2021-01-15 11:23:00      231.638126               9  1158.190630   \n",
              "6730 2021-01-13 11:23:00      226.028205               7  1130.141026   \n",
              "2769 2021-01-30 11:23:00      205.721653              15   822.886612   \n",
              "5960 2021-01-22 11:23:00      187.528340              14   750.113362   \n",
              "8177 2021-01-23 11:23:00      196.407734              10   785.630935   \n",
              "2348 2021-01-21 11:23:00      231.736854               7   926.947415   \n",
              "6744 2021-01-18 11:23:00      226.158666              13  2487.745330   \n",
              "2593 2021-01-25 11:23:00      175.363921              12  1929.003135   \n",
              "8578 2021-01-18 11:23:00      225.726329              11  2257.263286   \n",
              "1417 2021-01-21 11:23:00      242.756398              10  2427.563983   \n",
              "2249 2021-01-05 11:23:00      217.699268              14     0.000000   \n",
              "148  2021-01-09 11:23:00      197.866995               5     0.000000   \n",
              "\n",
              "      all_orders  recency   marketing_source  \n",
              "6254          11       26        paid_search  \n",
              "1547          11       41     organic_search  \n",
              "2435           9       37  telegram_whatsapp  \n",
              "1052           9       32             direct  \n",
              "9819           7       43               none  \n",
              "8613           7       25             direct  \n",
              "29             3       39     organic_search  \n",
              "1102           3       33             direct  \n",
              "363            0       43     organic_search  \n",
              "572            0       46        paid_search  \n",
              "6361          11     1324               none  \n",
              "5049          10       30             direct  \n",
              "8492           6       26             direct  \n",
              "5291           6       36     organic_search  \n",
              "1020           4       51     organic_search  \n",
              "6584           4       37        paid_search  \n",
              "8600           3       37     organic_search  \n",
              "664            3       37  telegram_whatsapp  \n",
              "3275           2       37     organic_search  \n",
              "4943           2       35     organic_search  \n",
              "6740           0       37     organic_search  \n",
              "5930           0       31        paid_search  \n",
              "184           11       30  telegram_whatsapp  \n",
              "8151          11       38             direct  \n",
              "4787          10       45     organic_search  \n",
              "9933          10       34             direct  \n",
              "8077           6       31     organic_search  \n",
              "9953           6       46     organic_search  \n",
              "1937           5       27             direct  \n",
              "562            4      890     organic_search  \n",
              "849            2       40  telegram_whatsapp  \n",
              "6013           2       42     organic_search  \n",
              "5726          10       27             direct  \n",
              "4592          10       30     organic_search  \n",
              "3561          10       25             direct  \n",
              "5157          10       42     organic_search  \n",
              "6687           7       36             direct  \n",
              "5365           7       30     organic_search  \n",
              "5615           5       34                crm  \n",
              "6730           5       36        paid_search  \n",
              "2769           4       19        paid_search  \n",
              "5960           4       27               none  \n",
              "8177           4       26             direct  \n",
              "2348           4       28                crm  \n",
              "6744          11       31                crm  \n",
              "2593          11       24  telegram_whatsapp  \n",
              "8578          10       31     organic_search  \n",
              "1417          10       28     organic_search  \n",
              "2249           0       44     organic_search  \n",
              "148            0       40  telegram_whatsapp  "
            ],
            "text/html": [
              "\n",
              "  <div id=\"df-13dc990d-b0de-4553-9efc-f7bf03ca93e4\">\n",
              "    <div class=\"colab-df-container\">\n",
              "      <div>\n",
              "<style scoped>\n",
              "    .dataframe tbody tr th:only-of-type {\n",
              "        vertical-align: middle;\n",
              "    }\n",
              "\n",
              "    .dataframe tbody tr th {\n",
              "        vertical-align: top;\n",
              "    }\n",
              "\n",
              "    .dataframe thead th {\n",
              "        text-align: right;\n",
              "    }\n",
              "</style>\n",
              "<table border=\"1\" class=\"dataframe\">\n",
              "  <thead>\n",
              "    <tr style=\"text-align: right;\">\n",
              "      <th></th>\n",
              "      <th>id</th>\n",
              "      <th>created_at</th>\n",
              "      <th>updated_at</th>\n",
              "      <th>deleted_at</th>\n",
              "      <th>status</th>\n",
              "      <th>version</th>\n",
              "      <th>city</th>\n",
              "      <th>state</th>\n",
              "      <th>neighborhood</th>\n",
              "      <th>last_date_purchase</th>\n",
              "      <th>average_ticket</th>\n",
              "      <th>items_quantity</th>\n",
              "      <th>all_revenue</th>\n",
              "      <th>all_orders</th>\n",
              "      <th>recency</th>\n",
              "      <th>marketing_source</th>\n",
              "    </tr>\n",
              "  </thead>\n",
              "  <tbody>\n",
              "    <tr>\n",
              "      <th>6254</th>\n",
              "      <td>61422392-131d-40e9-87df-33456b4eeac2</td>\n",
              "      <td>2016-02-28 19:47:00</td>\n",
              "      <td>2021-01-23 11:23:00</td>\n",
              "      <td>NaT</td>\n",
              "      <td>active</td>\n",
              "      <td>4.8.10</td>\n",
              "      <td>da Rosa</td>\n",
              "      <td>TO</td>\n",
              "      <td>Salgado Filho</td>\n",
              "      <td>2021-01-23 11:23:00</td>\n",
              "      <td>203.280044</td>\n",
              "      <td>5</td>\n",
              "      <td>2236.080484</td>\n",
              "      <td>11</td>\n",
              "      <td>26</td>\n",
              "      <td>paid_search</td>\n",
              "    </tr>\n",
              "    <tr>\n",
              "      <th>1547</th>\n",
              "      <td>b034824f-1802-44d7-9d8b-a436aa9cea6e</td>\n",
              "      <td>2016-02-28 19:47:00</td>\n",
              "      <td>2021-01-08 11:23:00</td>\n",
              "      <td>NaT</td>\n",
              "      <td>active</td>\n",
              "      <td>4.16.10</td>\n",
              "      <td>Cavalcanti da Serra</td>\n",
              "      <td>MG</td>\n",
              "      <td>Vitoria Da Conquista</td>\n",
              "      <td>2021-01-08 11:23:00</td>\n",
              "      <td>174.783567</td>\n",
              "      <td>9</td>\n",
              "      <td>1922.619237</td>\n",
              "      <td>11</td>\n",
              "      <td>41</td>\n",
              "      <td>organic_search</td>\n",
              "    </tr>\n",
              "    <tr>\n",
              "      <th>2435</th>\n",
              "      <td>814030bf-0880-453e-b2c8-6364083ced2e</td>\n",
              "      <td>2016-05-07 02:55:00</td>\n",
              "      <td>2021-01-12 11:23:00</td>\n",
              "      <td>NaT</td>\n",
              "      <td>active</td>\n",
              "      <td>2.14.3</td>\n",
              "      <td>Teixeira</td>\n",
              "      <td>AL</td>\n",
              "      <td>Mirtes</td>\n",
              "      <td>2021-01-12 11:23:00</td>\n",
              "      <td>224.664451</td>\n",
              "      <td>4</td>\n",
              "      <td>2021.980060</td>\n",
              "      <td>9</td>\n",
              "      <td>37</td>\n",
              "      <td>telegram_whatsapp</td>\n",
              "    </tr>\n",
              "    <tr>\n",
              "      <th>1052</th>\n",
              "      <td>b5d59cbc-5fab-41b4-9627-a9fce3647317</td>\n",
              "      <td>2016-05-07 02:55:00</td>\n",
              "      <td>2021-01-17 11:23:00</td>\n",
              "      <td>NaT</td>\n",
              "      <td>active</td>\n",
              "      <td>5.40.6</td>\n",
              "      <td>da Cruz</td>\n",
              "      <td>RJ</td>\n",
              "      <td>Vila De Sá</td>\n",
              "      <td>2021-01-17 11:23:00</td>\n",
              "      <td>208.142382</td>\n",
              "      <td>10</td>\n",
              "      <td>1873.281442</td>\n",
              "      <td>9</td>\n",
              "      <td>32</td>\n",
              "      <td>direct</td>\n",
              "    </tr>\n",
              "    <tr>\n",
              "      <th>9819</th>\n",
              "      <td>2d61bf9c-5309-48e1-a801-c08735508cee</td>\n",
              "      <td>2016-06-26 06:47:00</td>\n",
              "      <td>2021-01-06 11:23:00</td>\n",
              "      <td>NaT</td>\n",
              "      <td>active</td>\n",
              "      <td>3.33.5</td>\n",
              "      <td>Gonçalves</td>\n",
              "      <td>PE</td>\n",
              "      <td>Vila Maloca</td>\n",
              "      <td>2021-01-06 11:23:00</td>\n",
              "      <td>217.157640</td>\n",
              "      <td>11</td>\n",
              "      <td>1520.103481</td>\n",
              "      <td>7</td>\n",
              "      <td>43</td>\n",
              "      <td>none</td>\n",
              "    </tr>\n",
              "    <tr>\n",
              "      <th>8613</th>\n",
              "      <td>ee6550a2-b9ac-4496-9d4c-0871f380f4a6</td>\n",
              "      <td>2016-06-26 06:47:00</td>\n",
              "      <td>2021-01-24 11:23:00</td>\n",
              "      <td>NaT</td>\n",
              "      <td>active</td>\n",
              "      <td>3.26.14</td>\n",
              "      <td>Pinto Verde</td>\n",
              "      <td>AM</td>\n",
              "      <td>Ipiranga</td>\n",
              "      <td>2021-01-24 11:23:00</td>\n",
              "      <td>226.951651</td>\n",
              "      <td>6</td>\n",
              "      <td>1588.661554</td>\n",
              "      <td>7</td>\n",
              "      <td>25</td>\n",
              "      <td>direct</td>\n",
              "    </tr>\n",
              "    <tr>\n",
              "      <th>29</th>\n",
              "      <td>f1a447fc-d9f7-4d7f-81f9-29ad2828e8d8</td>\n",
              "      <td>2016-11-06 20:45:00</td>\n",
              "      <td>2021-01-10 11:23:00</td>\n",
              "      <td>NaT</td>\n",
              "      <td>active</td>\n",
              "      <td>3.22.10</td>\n",
              "      <td>Novaes</td>\n",
              "      <td>MT</td>\n",
              "      <td>Cenaculo</td>\n",
              "      <td>2021-01-10 11:23:00</td>\n",
              "      <td>203.883422</td>\n",
              "      <td>5</td>\n",
              "      <td>611.650267</td>\n",
              "      <td>3</td>\n",
              "      <td>39</td>\n",
              "      <td>organic_search</td>\n",
              "    </tr>\n",
              "    <tr>\n",
              "      <th>1102</th>\n",
              "      <td>09ef39d4-fc62-4672-b017-989cfa2378cf</td>\n",
              "      <td>2016-11-06 20:45:00</td>\n",
              "      <td>2021-01-16 11:23:00</td>\n",
              "      <td>NaT</td>\n",
              "      <td>active</td>\n",
              "      <td>3.34.10</td>\n",
              "      <td>das Neves de Monteiro</td>\n",
              "      <td>PI</td>\n",
              "      <td>Vale Do Jatoba</td>\n",
              "      <td>2021-01-16 11:23:00</td>\n",
              "      <td>161.213244</td>\n",
              "      <td>9</td>\n",
              "      <td>483.639731</td>\n",
              "      <td>3</td>\n",
              "      <td>33</td>\n",
              "      <td>direct</td>\n",
              "    </tr>\n",
              "    <tr>\n",
              "      <th>363</th>\n",
              "      <td>c629b9a7-b0a5-4200-821e-5181b0708e77</td>\n",
              "      <td>2017-02-11 17:18:00</td>\n",
              "      <td>2021-01-06 11:23:00</td>\n",
              "      <td>NaT</td>\n",
              "      <td>active</td>\n",
              "      <td>4.7.8</td>\n",
              "      <td>Moreira de Ramos</td>\n",
              "      <td>DF</td>\n",
              "      <td>Graça</td>\n",
              "      <td>2021-01-06 11:23:00</td>\n",
              "      <td>185.323127</td>\n",
              "      <td>10</td>\n",
              "      <td>0.000000</td>\n",
              "      <td>0</td>\n",
              "      <td>43</td>\n",
              "      <td>organic_search</td>\n",
              "    </tr>\n",
              "    <tr>\n",
              "      <th>572</th>\n",
              "      <td>8393c66d-3f5c-473b-98c1-afdc9b9838e3</td>\n",
              "      <td>2017-02-11 17:18:00</td>\n",
              "      <td>2021-01-03 11:23:00</td>\n",
              "      <td>NaT</td>\n",
              "      <td>active</td>\n",
              "      <td>5.11.4</td>\n",
              "      <td>Pereira</td>\n",
              "      <td>MA</td>\n",
              "      <td>Marilandia</td>\n",
              "      <td>2021-01-03 11:23:00</td>\n",
              "      <td>167.994806</td>\n",
              "      <td>12</td>\n",
              "      <td>0.000000</td>\n",
              "      <td>0</td>\n",
              "      <td>46</td>\n",
              "      <td>paid_search</td>\n",
              "    </tr>\n",
              "    <tr>\n",
              "      <th>6361</th>\n",
              "      <td>0852585e-81e7-4485-9a1f-646c10f136e5</td>\n",
              "      <td>2017-03-18 17:21:00</td>\n",
              "      <td>2019-03-14 09:28:00</td>\n",
              "      <td>2019-03-14 09:28:00</td>\n",
              "      <td>canceled</td>\n",
              "      <td>4.10.8</td>\n",
              "      <td>Carvalho da Mata</td>\n",
              "      <td>RS</td>\n",
              "      <td>Vila Ipiranga</td>\n",
              "      <td>2017-07-04 19:20:00</td>\n",
              "      <td>249.241697</td>\n",
              "      <td>9</td>\n",
              "      <td>2741.658667</td>\n",
              "      <td>11</td>\n",
              "      <td>1324</td>\n",
              "      <td>none</td>\n",
              "    </tr>\n",
              "    <tr>\n",
              "      <th>5049</th>\n",
              "      <td>55e7ebbe-ca87-41a8-ae80-80efbf508c01</td>\n",
              "      <td>2017-03-18 17:21:00</td>\n",
              "      <td>2021-01-19 11:23:00</td>\n",
              "      <td>NaT</td>\n",
              "      <td>active</td>\n",
              "      <td>3.8.0</td>\n",
              "      <td>Barbosa</td>\n",
              "      <td>SC</td>\n",
              "      <td>Vila Piratininga Venda Nova</td>\n",
              "      <td>2021-01-19 11:23:00</td>\n",
              "      <td>218.319665</td>\n",
              "      <td>5</td>\n",
              "      <td>2183.196647</td>\n",
              "      <td>10</td>\n",
              "      <td>30</td>\n",
              "      <td>direct</td>\n",
              "    </tr>\n",
              "    <tr>\n",
              "      <th>8492</th>\n",
              "      <td>0d3afaba-dc11-4d1a-9303-4698620a66e2</td>\n",
              "      <td>2017-08-12 12:20:00</td>\n",
              "      <td>2021-01-23 11:23:00</td>\n",
              "      <td>NaT</td>\n",
              "      <td>active</td>\n",
              "      <td>3.29.12</td>\n",
              "      <td>Correia</td>\n",
              "      <td>RS</td>\n",
              "      <td>Serra Verde</td>\n",
              "      <td>2021-01-23 11:23:00</td>\n",
              "      <td>230.374176</td>\n",
              "      <td>8</td>\n",
              "      <td>1382.245055</td>\n",
              "      <td>6</td>\n",
              "      <td>26</td>\n",
              "      <td>direct</td>\n",
              "    </tr>\n",
              "    <tr>\n",
              "      <th>5291</th>\n",
              "      <td>5893bbef-1205-4f29-86dd-5ffcc1befcc9</td>\n",
              "      <td>2017-08-12 12:20:00</td>\n",
              "      <td>2021-01-13 11:23:00</td>\n",
              "      <td>NaT</td>\n",
              "      <td>active</td>\n",
              "      <td>3.21.7</td>\n",
              "      <td>Barbosa</td>\n",
              "      <td>BA</td>\n",
              "      <td>Vila Madre Gertrudes 1ª Seção</td>\n",
              "      <td>2021-01-13 11:23:00</td>\n",
              "      <td>208.682098</td>\n",
              "      <td>6</td>\n",
              "      <td>1252.092587</td>\n",
              "      <td>6</td>\n",
              "      <td>36</td>\n",
              "      <td>organic_search</td>\n",
              "    </tr>\n",
              "    <tr>\n",
              "      <th>1020</th>\n",
              "      <td>7efd9fc1-2871-46c8-a9ac-2da783fbaf7c</td>\n",
              "      <td>2017-10-16 02:32:00</td>\n",
              "      <td>2020-12-29 11:23:00</td>\n",
              "      <td>NaT</td>\n",
              "      <td>active</td>\n",
              "      <td>4.32.2</td>\n",
              "      <td>Campos do Sul</td>\n",
              "      <td>BA</td>\n",
              "      <td>Conjunto Califórnia Ii</td>\n",
              "      <td>2020-12-29 11:23:00</td>\n",
              "      <td>219.166040</td>\n",
              "      <td>11</td>\n",
              "      <td>876.664158</td>\n",
              "      <td>4</td>\n",
              "      <td>51</td>\n",
              "      <td>organic_search</td>\n",
              "    </tr>\n",
              "    <tr>\n",
              "      <th>6584</th>\n",
              "      <td>6ffd49de-6251-42d2-89cd-e5ce4dbbe1de</td>\n",
              "      <td>2017-10-16 02:32:00</td>\n",
              "      <td>2021-01-12 11:23:00</td>\n",
              "      <td>NaT</td>\n",
              "      <td>active</td>\n",
              "      <td>2.23.11</td>\n",
              "      <td>da Rocha</td>\n",
              "      <td>MS</td>\n",
              "      <td>Minas Brasil</td>\n",
              "      <td>2021-01-12 11:23:00</td>\n",
              "      <td>217.478198</td>\n",
              "      <td>8</td>\n",
              "      <td>869.912791</td>\n",
              "      <td>4</td>\n",
              "      <td>37</td>\n",
              "      <td>paid_search</td>\n",
              "    </tr>\n",
              "    <tr>\n",
              "      <th>8600</th>\n",
              "      <td>7d0da5db-f290-4c58-b71e-248f2da34138</td>\n",
              "      <td>2017-10-18 09:37:00</td>\n",
              "      <td>2021-01-12 11:23:00</td>\n",
              "      <td>NaT</td>\n",
              "      <td>active</td>\n",
              "      <td>5.41.8</td>\n",
              "      <td>Teixeira</td>\n",
              "      <td>MS</td>\n",
              "      <td>Alta Tensão 1ª Seção</td>\n",
              "      <td>2021-01-12 11:23:00</td>\n",
              "      <td>220.133946</td>\n",
              "      <td>9</td>\n",
              "      <td>660.401839</td>\n",
              "      <td>3</td>\n",
              "      <td>37</td>\n",
              "      <td>organic_search</td>\n",
              "    </tr>\n",
              "    <tr>\n",
              "      <th>664</th>\n",
              "      <td>a7b548e3-1b3e-4086-ad79-8af6b7886584</td>\n",
              "      <td>2017-10-18 09:37:00</td>\n",
              "      <td>2021-01-12 11:23:00</td>\n",
              "      <td>NaT</td>\n",
              "      <td>active</td>\n",
              "      <td>3.1.6</td>\n",
              "      <td>das Neves das Flores</td>\n",
              "      <td>DF</td>\n",
              "      <td>Pedreira Padro Lopes</td>\n",
              "      <td>2021-01-12 11:23:00</td>\n",
              "      <td>210.913558</td>\n",
              "      <td>8</td>\n",
              "      <td>632.740673</td>\n",
              "      <td>3</td>\n",
              "      <td>37</td>\n",
              "      <td>telegram_whatsapp</td>\n",
              "    </tr>\n",
              "    <tr>\n",
              "      <th>3275</th>\n",
              "      <td>e777b7ae-f695-4073-a136-958cbc09720c</td>\n",
              "      <td>2017-11-28 04:07:00</td>\n",
              "      <td>2021-01-12 11:23:00</td>\n",
              "      <td>NaT</td>\n",
              "      <td>active</td>\n",
              "      <td>2.10.11</td>\n",
              "      <td>Cunha</td>\n",
              "      <td>MS</td>\n",
              "      <td>Vila São Geraldo</td>\n",
              "      <td>2021-01-12 11:23:00</td>\n",
              "      <td>244.054888</td>\n",
              "      <td>9</td>\n",
              "      <td>488.109777</td>\n",
              "      <td>2</td>\n",
              "      <td>37</td>\n",
              "      <td>organic_search</td>\n",
              "    </tr>\n",
              "    <tr>\n",
              "      <th>4943</th>\n",
              "      <td>115a5471-9473-4acd-b968-f213cf659e90</td>\n",
              "      <td>2017-11-28 04:07:00</td>\n",
              "      <td>2021-01-14 11:23:00</td>\n",
              "      <td>NaT</td>\n",
              "      <td>active</td>\n",
              "      <td>3.27.5</td>\n",
              "      <td>Barros</td>\n",
              "      <td>SE</td>\n",
              "      <td>Conjunto Jardim Filadélfia</td>\n",
              "      <td>2021-01-14 11:23:00</td>\n",
              "      <td>204.192580</td>\n",
              "      <td>5</td>\n",
              "      <td>408.385159</td>\n",
              "      <td>2</td>\n",
              "      <td>35</td>\n",
              "      <td>organic_search</td>\n",
              "    </tr>\n",
              "    <tr>\n",
              "      <th>6740</th>\n",
              "      <td>63693527-9eb7-4dcc-a660-56675980c429</td>\n",
              "      <td>2018-01-22 19:42:00</td>\n",
              "      <td>2021-01-12 11:23:00</td>\n",
              "      <td>NaT</td>\n",
              "      <td>active</td>\n",
              "      <td>3.33.10</td>\n",
              "      <td>Oliveira</td>\n",
              "      <td>PE</td>\n",
              "      <td>Palmares</td>\n",
              "      <td>2021-01-12 11:23:00</td>\n",
              "      <td>212.479745</td>\n",
              "      <td>8</td>\n",
              "      <td>0.000000</td>\n",
              "      <td>0</td>\n",
              "      <td>37</td>\n",
              "      <td>organic_search</td>\n",
              "    </tr>\n",
              "    <tr>\n",
              "      <th>5930</th>\n",
              "      <td>63a4f1c2-7cb6-4e42-a670-df2875b54d4b</td>\n",
              "      <td>2018-01-22 19:42:00</td>\n",
              "      <td>2021-01-18 11:23:00</td>\n",
              "      <td>NaT</td>\n",
              "      <td>active</td>\n",
              "      <td>4.17.2</td>\n",
              "      <td>Duarte Verde</td>\n",
              "      <td>GO</td>\n",
              "      <td>Dom Cabral</td>\n",
              "      <td>2021-01-18 11:23:00</td>\n",
              "      <td>252.863345</td>\n",
              "      <td>6</td>\n",
              "      <td>0.000000</td>\n",
              "      <td>0</td>\n",
              "      <td>31</td>\n",
              "      <td>paid_search</td>\n",
              "    </tr>\n",
              "    <tr>\n",
              "      <th>184</th>\n",
              "      <td>95f46fea-def3-4000-b601-604f167661b1</td>\n",
              "      <td>2018-03-06 08:05:00</td>\n",
              "      <td>2021-01-19 11:23:00</td>\n",
              "      <td>NaT</td>\n",
              "      <td>active</td>\n",
              "      <td>5.24.2</td>\n",
              "      <td>da Cunha</td>\n",
              "      <td>PR</td>\n",
              "      <td>Lindéia</td>\n",
              "      <td>2021-01-19 11:23:00</td>\n",
              "      <td>201.537424</td>\n",
              "      <td>15</td>\n",
              "      <td>2216.911666</td>\n",
              "      <td>11</td>\n",
              "      <td>30</td>\n",
              "      <td>telegram_whatsapp</td>\n",
              "    </tr>\n",
              "    <tr>\n",
              "      <th>8151</th>\n",
              "      <td>2063f20d-ec4f-489d-bf2d-4053eddbbe6a</td>\n",
              "      <td>2018-03-06 08:05:00</td>\n",
              "      <td>2021-01-11 11:23:00</td>\n",
              "      <td>NaT</td>\n",
              "      <td>active</td>\n",
              "      <td>3.53.4</td>\n",
              "      <td>Pereira</td>\n",
              "      <td>AL</td>\n",
              "      <td>Marilandia</td>\n",
              "      <td>2021-01-11 11:23:00</td>\n",
              "      <td>223.087737</td>\n",
              "      <td>12</td>\n",
              "      <td>2453.965110</td>\n",
              "      <td>11</td>\n",
              "      <td>38</td>\n",
              "      <td>direct</td>\n",
              "    </tr>\n",
              "    <tr>\n",
              "      <th>4787</th>\n",
              "      <td>b27b868e-e1db-4c3d-a92b-ebfc8993b579</td>\n",
              "      <td>2018-03-26 21:04:00</td>\n",
              "      <td>2021-01-04 11:23:00</td>\n",
              "      <td>NaT</td>\n",
              "      <td>paused</td>\n",
              "      <td>2.31.6</td>\n",
              "      <td>da Mata</td>\n",
              "      <td>RR</td>\n",
              "      <td>Olhos D'água</td>\n",
              "      <td>2021-01-04 11:23:00</td>\n",
              "      <td>196.940340</td>\n",
              "      <td>9</td>\n",
              "      <td>1969.403405</td>\n",
              "      <td>10</td>\n",
              "      <td>45</td>\n",
              "      <td>organic_search</td>\n",
              "    </tr>\n",
              "    <tr>\n",
              "      <th>9933</th>\n",
              "      <td>8b1ec928-085e-4a53-9040-a5d1017152a3</td>\n",
              "      <td>2018-03-26 21:04:00</td>\n",
              "      <td>2021-01-15 11:23:00</td>\n",
              "      <td>NaT</td>\n",
              "      <td>active</td>\n",
              "      <td>4.38.5</td>\n",
              "      <td>Cardoso</td>\n",
              "      <td>PA</td>\n",
              "      <td>Apolonia</td>\n",
              "      <td>2021-01-15 11:23:00</td>\n",
              "      <td>227.867634</td>\n",
              "      <td>5</td>\n",
              "      <td>2278.676340</td>\n",
              "      <td>10</td>\n",
              "      <td>34</td>\n",
              "      <td>direct</td>\n",
              "    </tr>\n",
              "    <tr>\n",
              "      <th>8077</th>\n",
              "      <td>857d6927-8673-4c23-a50c-3faa87087177</td>\n",
              "      <td>2018-07-29 23:50:00</td>\n",
              "      <td>2021-01-18 11:23:00</td>\n",
              "      <td>NaT</td>\n",
              "      <td>active</td>\n",
              "      <td>3.17.9</td>\n",
              "      <td>das Neves</td>\n",
              "      <td>PA</td>\n",
              "      <td>Trevo</td>\n",
              "      <td>2021-01-18 11:23:00</td>\n",
              "      <td>251.960699</td>\n",
              "      <td>13</td>\n",
              "      <td>1511.764191</td>\n",
              "      <td>6</td>\n",
              "      <td>31</td>\n",
              "      <td>organic_search</td>\n",
              "    </tr>\n",
              "    <tr>\n",
              "      <th>9953</th>\n",
              "      <td>03d2174f-7cf2-4f02-9be7-7619f7b7a597</td>\n",
              "      <td>2018-07-29 23:50:00</td>\n",
              "      <td>2021-01-03 11:23:00</td>\n",
              "      <td>NaT</td>\n",
              "      <td>active</td>\n",
              "      <td>5.52.11</td>\n",
              "      <td>Cardoso</td>\n",
              "      <td>AL</td>\n",
              "      <td>Engenho Nogueira</td>\n",
              "      <td>2021-01-03 11:23:00</td>\n",
              "      <td>258.653631</td>\n",
              "      <td>10</td>\n",
              "      <td>1551.921783</td>\n",
              "      <td>6</td>\n",
              "      <td>46</td>\n",
              "      <td>organic_search</td>\n",
              "    </tr>\n",
              "    <tr>\n",
              "      <th>1937</th>\n",
              "      <td>5a2d4c5e-21ab-4c07-9713-70d847323565</td>\n",
              "      <td>2018-08-25 04:16:00</td>\n",
              "      <td>2021-01-22 11:23:00</td>\n",
              "      <td>NaT</td>\n",
              "      <td>paused</td>\n",
              "      <td>5.15.9</td>\n",
              "      <td>da Paz do Amparo</td>\n",
              "      <td>RR</td>\n",
              "      <td>Virgínia</td>\n",
              "      <td>2021-01-22 11:23:00</td>\n",
              "      <td>174.505215</td>\n",
              "      <td>7</td>\n",
              "      <td>872.526075</td>\n",
              "      <td>5</td>\n",
              "      <td>27</td>\n",
              "      <td>direct</td>\n",
              "    </tr>\n",
              "    <tr>\n",
              "      <th>562</th>\n",
              "      <td>76e20df2-e386-4d80-900b-2e8c0e0b1fe7</td>\n",
              "      <td>2018-08-25 04:16:00</td>\n",
              "      <td>2019-01-06 14:48:00</td>\n",
              "      <td>2019-01-06 14:48:00</td>\n",
              "      <td>canceled</td>\n",
              "      <td>4.43.8</td>\n",
              "      <td>da Rosa</td>\n",
              "      <td>ES</td>\n",
              "      <td>Itaipu</td>\n",
              "      <td>2018-09-12 04:44:00</td>\n",
              "      <td>183.844847</td>\n",
              "      <td>9</td>\n",
              "      <td>735.379389</td>\n",
              "      <td>4</td>\n",
              "      <td>890</td>\n",
              "      <td>organic_search</td>\n",
              "    </tr>\n",
              "    <tr>\n",
              "      <th>849</th>\n",
              "      <td>57d2eaf1-5b8d-452d-a497-80ce78df2ef6</td>\n",
              "      <td>2018-11-26 19:48:00</td>\n",
              "      <td>2021-01-09 11:23:00</td>\n",
              "      <td>NaT</td>\n",
              "      <td>active</td>\n",
              "      <td>4.24.3</td>\n",
              "      <td>Nascimento</td>\n",
              "      <td>GO</td>\n",
              "      <td>Vila Pilar</td>\n",
              "      <td>2021-01-09 11:23:00</td>\n",
              "      <td>207.569887</td>\n",
              "      <td>7</td>\n",
              "      <td>415.139775</td>\n",
              "      <td>2</td>\n",
              "      <td>40</td>\n",
              "      <td>telegram_whatsapp</td>\n",
              "    </tr>\n",
              "    <tr>\n",
              "      <th>6013</th>\n",
              "      <td>c5d808cc-7fe7-4eaa-8362-8505ec1db219</td>\n",
              "      <td>2018-11-26 19:48:00</td>\n",
              "      <td>2021-01-07 11:23:00</td>\n",
              "      <td>NaT</td>\n",
              "      <td>active</td>\n",
              "      <td>4.16.8</td>\n",
              "      <td>Oliveira</td>\n",
              "      <td>RJ</td>\n",
              "      <td>Vale Do Jatoba</td>\n",
              "      <td>2021-01-07 11:23:00</td>\n",
              "      <td>237.092643</td>\n",
              "      <td>5</td>\n",
              "      <td>474.185286</td>\n",
              "      <td>2</td>\n",
              "      <td>42</td>\n",
              "      <td>organic_search</td>\n",
              "    </tr>\n",
              "    <tr>\n",
              "      <th>5726</th>\n",
              "      <td>bceb05d8-8615-4a5d-ae45-53c54098ff24</td>\n",
              "      <td>2019-03-25 13:41:00</td>\n",
              "      <td>2021-01-22 11:23:00</td>\n",
              "      <td>NaT</td>\n",
              "      <td>active</td>\n",
              "      <td>5.20.7</td>\n",
              "      <td>Costela dos Dourados</td>\n",
              "      <td>ES</td>\n",
              "      <td>Vila Vista Alegre</td>\n",
              "      <td>2021-01-22 11:23:00</td>\n",
              "      <td>239.030375</td>\n",
              "      <td>8</td>\n",
              "      <td>2390.303753</td>\n",
              "      <td>10</td>\n",
              "      <td>27</td>\n",
              "      <td>direct</td>\n",
              "    </tr>\n",
              "    <tr>\n",
              "      <th>4592</th>\n",
              "      <td>df123b64-26b7-4776-bdb7-4f88683d36d9</td>\n",
              "      <td>2019-03-25 13:41:00</td>\n",
              "      <td>2021-01-19 11:23:00</td>\n",
              "      <td>NaT</td>\n",
              "      <td>active</td>\n",
              "      <td>5.32.11</td>\n",
              "      <td>Pinto</td>\n",
              "      <td>PI</td>\n",
              "      <td>Vila Pilar</td>\n",
              "      <td>2021-01-19 11:23:00</td>\n",
              "      <td>215.777453</td>\n",
              "      <td>12</td>\n",
              "      <td>2157.774529</td>\n",
              "      <td>10</td>\n",
              "      <td>30</td>\n",
              "      <td>organic_search</td>\n",
              "    </tr>\n",
              "    <tr>\n",
              "      <th>3561</th>\n",
              "      <td>204727dd-ab55-44c1-9456-c4ee8f146164</td>\n",
              "      <td>2019-03-27 09:45:00</td>\n",
              "      <td>2021-01-24 11:23:00</td>\n",
              "      <td>NaT</td>\n",
              "      <td>active</td>\n",
              "      <td>3.16.14</td>\n",
              "      <td>da Mata de Nogueira</td>\n",
              "      <td>TO</td>\n",
              "      <td>Inconfidência</td>\n",
              "      <td>2021-01-24 11:23:00</td>\n",
              "      <td>235.436161</td>\n",
              "      <td>13</td>\n",
              "      <td>2354.361613</td>\n",
              "      <td>10</td>\n",
              "      <td>25</td>\n",
              "      <td>direct</td>\n",
              "    </tr>\n",
              "    <tr>\n",
              "      <th>5157</th>\n",
              "      <td>56db27ee-c862-48a2-a9aa-8a3110a60e0e</td>\n",
              "      <td>2019-03-27 09:45:00</td>\n",
              "      <td>2021-01-07 11:23:00</td>\n",
              "      <td>NaT</td>\n",
              "      <td>active</td>\n",
              "      <td>2.18.9</td>\n",
              "      <td>Pereira</td>\n",
              "      <td>MA</td>\n",
              "      <td>São Luiz</td>\n",
              "      <td>2021-01-07 11:23:00</td>\n",
              "      <td>218.390634</td>\n",
              "      <td>10</td>\n",
              "      <td>2183.906343</td>\n",
              "      <td>10</td>\n",
              "      <td>42</td>\n",
              "      <td>organic_search</td>\n",
              "    </tr>\n",
              "    <tr>\n",
              "      <th>6687</th>\n",
              "      <td>b19300d3-46b6-422f-8740-3f98ded4013f</td>\n",
              "      <td>2019-06-24 18:21:00</td>\n",
              "      <td>2021-01-13 11:23:00</td>\n",
              "      <td>NaT</td>\n",
              "      <td>active</td>\n",
              "      <td>3.16.8</td>\n",
              "      <td>Melo</td>\n",
              "      <td>SP</td>\n",
              "      <td>Chácara Leonina</td>\n",
              "      <td>2021-01-13 11:23:00</td>\n",
              "      <td>206.827967</td>\n",
              "      <td>10</td>\n",
              "      <td>1447.795767</td>\n",
              "      <td>7</td>\n",
              "      <td>36</td>\n",
              "      <td>direct</td>\n",
              "    </tr>\n",
              "    <tr>\n",
              "      <th>5365</th>\n",
              "      <td>09299fa8-6130-4da0-8652-a61c3d1f0d2e</td>\n",
              "      <td>2019-06-24 18:21:00</td>\n",
              "      <td>2021-01-19 11:23:00</td>\n",
              "      <td>NaT</td>\n",
              "      <td>active</td>\n",
              "      <td>7.46.10</td>\n",
              "      <td>da Cunha</td>\n",
              "      <td>PI</td>\n",
              "      <td>Vila Sesc</td>\n",
              "      <td>2021-01-19 11:23:00</td>\n",
              "      <td>216.719772</td>\n",
              "      <td>7</td>\n",
              "      <td>1517.038407</td>\n",
              "      <td>7</td>\n",
              "      <td>30</td>\n",
              "      <td>organic_search</td>\n",
              "    </tr>\n",
              "    <tr>\n",
              "      <th>5615</th>\n",
              "      <td>3d9183e6-622b-405b-a554-2c74c3e1c65f</td>\n",
              "      <td>2019-09-03 23:08:00</td>\n",
              "      <td>2021-01-15 11:23:00</td>\n",
              "      <td>NaT</td>\n",
              "      <td>active</td>\n",
              "      <td>4.37.8</td>\n",
              "      <td>Moreira Verde</td>\n",
              "      <td>DF</td>\n",
              "      <td>Outro</td>\n",
              "      <td>2021-01-15 11:23:00</td>\n",
              "      <td>231.638126</td>\n",
              "      <td>9</td>\n",
              "      <td>1158.190630</td>\n",
              "      <td>5</td>\n",
              "      <td>34</td>\n",
              "      <td>crm</td>\n",
              "    </tr>\n",
              "    <tr>\n",
              "      <th>6730</th>\n",
              "      <td>7c3ffc49-eb10-49a0-8206-f403055cc354</td>\n",
              "      <td>2019-09-03 23:08:00</td>\n",
              "      <td>2021-01-13 11:23:00</td>\n",
              "      <td>NaT</td>\n",
              "      <td>active</td>\n",
              "      <td>5.33.6</td>\n",
              "      <td>Porto</td>\n",
              "      <td>RR</td>\n",
              "      <td>Jardim América</td>\n",
              "      <td>2021-01-13 11:23:00</td>\n",
              "      <td>226.028205</td>\n",
              "      <td>7</td>\n",
              "      <td>1130.141026</td>\n",
              "      <td>5</td>\n",
              "      <td>36</td>\n",
              "      <td>paid_search</td>\n",
              "    </tr>\n",
              "    <tr>\n",
              "      <th>2769</th>\n",
              "      <td>3aef6d47-ab9e-4864-a486-30c9e5b616d8</td>\n",
              "      <td>2019-10-12 01:33:00</td>\n",
              "      <td>2021-01-30 11:23:00</td>\n",
              "      <td>NaT</td>\n",
              "      <td>active</td>\n",
              "      <td>4.25.7</td>\n",
              "      <td>Aragão</td>\n",
              "      <td>AC</td>\n",
              "      <td>Pilar</td>\n",
              "      <td>2021-01-30 11:23:00</td>\n",
              "      <td>205.721653</td>\n",
              "      <td>15</td>\n",
              "      <td>822.886612</td>\n",
              "      <td>4</td>\n",
              "      <td>19</td>\n",
              "      <td>paid_search</td>\n",
              "    </tr>\n",
              "    <tr>\n",
              "      <th>5960</th>\n",
              "      <td>06aa360d-7705-4afa-a915-66a414d37e1e</td>\n",
              "      <td>2019-10-12 01:33:00</td>\n",
              "      <td>2021-01-22 11:23:00</td>\n",
              "      <td>NaT</td>\n",
              "      <td>active</td>\n",
              "      <td>4.22.5</td>\n",
              "      <td>Alves de Cardoso</td>\n",
              "      <td>AC</td>\n",
              "      <td>São Marcos</td>\n",
              "      <td>2021-01-22 11:23:00</td>\n",
              "      <td>187.528340</td>\n",
              "      <td>14</td>\n",
              "      <td>750.113362</td>\n",
              "      <td>4</td>\n",
              "      <td>27</td>\n",
              "      <td>none</td>\n",
              "    </tr>\n",
              "    <tr>\n",
              "      <th>8177</th>\n",
              "      <td>b76ffd87-f7b9-415b-b021-21ab9aa0799c</td>\n",
              "      <td>2019-10-17 11:07:00</td>\n",
              "      <td>2021-01-23 11:23:00</td>\n",
              "      <td>NaT</td>\n",
              "      <td>active</td>\n",
              "      <td>2.38.0</td>\n",
              "      <td>Jesus</td>\n",
              "      <td>RS</td>\n",
              "      <td>Vila Nova Gameleira 3ª Seção</td>\n",
              "      <td>2021-01-23 11:23:00</td>\n",
              "      <td>196.407734</td>\n",
              "      <td>10</td>\n",
              "      <td>785.630935</td>\n",
              "      <td>4</td>\n",
              "      <td>26</td>\n",
              "      <td>direct</td>\n",
              "    </tr>\n",
              "    <tr>\n",
              "      <th>2348</th>\n",
              "      <td>5e6a326d-0574-437d-9239-f154066b38a4</td>\n",
              "      <td>2019-10-17 11:07:00</td>\n",
              "      <td>2021-01-21 11:23:00</td>\n",
              "      <td>NaT</td>\n",
              "      <td>active</td>\n",
              "      <td>4.38.8</td>\n",
              "      <td>Porto de Melo</td>\n",
              "      <td>RN</td>\n",
              "      <td>Paquetá</td>\n",
              "      <td>2021-01-21 11:23:00</td>\n",
              "      <td>231.736854</td>\n",
              "      <td>7</td>\n",
              "      <td>926.947415</td>\n",
              "      <td>4</td>\n",
              "      <td>28</td>\n",
              "      <td>crm</td>\n",
              "    </tr>\n",
              "    <tr>\n",
              "      <th>6744</th>\n",
              "      <td>189812b9-f1e6-445d-bbbc-2a59aa2e1903</td>\n",
              "      <td>2020-02-20 00:47:00</td>\n",
              "      <td>2021-01-18 11:23:00</td>\n",
              "      <td>NaT</td>\n",
              "      <td>active</td>\n",
              "      <td>2.40.5</td>\n",
              "      <td>Nunes do Sul</td>\n",
              "      <td>AM</td>\n",
              "      <td>Araguaia</td>\n",
              "      <td>2021-01-18 11:23:00</td>\n",
              "      <td>226.158666</td>\n",
              "      <td>13</td>\n",
              "      <td>2487.745330</td>\n",
              "      <td>11</td>\n",
              "      <td>31</td>\n",
              "      <td>crm</td>\n",
              "    </tr>\n",
              "    <tr>\n",
              "      <th>2593</th>\n",
              "      <td>ab64f731-1588-4224-86d3-17e5154bc818</td>\n",
              "      <td>2020-02-20 00:47:00</td>\n",
              "      <td>2021-01-25 11:23:00</td>\n",
              "      <td>NaT</td>\n",
              "      <td>active</td>\n",
              "      <td>3.21.3</td>\n",
              "      <td>Almeida das Pedras</td>\n",
              "      <td>TO</td>\n",
              "      <td>Califórnia</td>\n",
              "      <td>2021-01-25 11:23:00</td>\n",
              "      <td>175.363921</td>\n",
              "      <td>12</td>\n",
              "      <td>1929.003135</td>\n",
              "      <td>11</td>\n",
              "      <td>24</td>\n",
              "      <td>telegram_whatsapp</td>\n",
              "    </tr>\n",
              "    <tr>\n",
              "      <th>8578</th>\n",
              "      <td>6d333a42-0d96-4c9e-b521-5300fccd54cd</td>\n",
              "      <td>2020-04-15 06:34:00</td>\n",
              "      <td>2021-01-18 11:23:00</td>\n",
              "      <td>NaT</td>\n",
              "      <td>active</td>\n",
              "      <td>2.28.12</td>\n",
              "      <td>das Neves</td>\n",
              "      <td>MA</td>\n",
              "      <td>Candelaria</td>\n",
              "      <td>2021-01-18 11:23:00</td>\n",
              "      <td>225.726329</td>\n",
              "      <td>11</td>\n",
              "      <td>2257.263286</td>\n",
              "      <td>10</td>\n",
              "      <td>31</td>\n",
              "      <td>organic_search</td>\n",
              "    </tr>\n",
              "    <tr>\n",
              "      <th>1417</th>\n",
              "      <td>04144cf0-c5a3-4c3d-a9e0-28b410ebce41</td>\n",
              "      <td>2020-04-15 06:34:00</td>\n",
              "      <td>2021-01-21 11:23:00</td>\n",
              "      <td>NaT</td>\n",
              "      <td>active</td>\n",
              "      <td>3.36.9</td>\n",
              "      <td>Duarte de Goiás</td>\n",
              "      <td>RO</td>\n",
              "      <td>Serrano</td>\n",
              "      <td>2021-01-21 11:23:00</td>\n",
              "      <td>242.756398</td>\n",
              "      <td>10</td>\n",
              "      <td>2427.563983</td>\n",
              "      <td>10</td>\n",
              "      <td>28</td>\n",
              "      <td>organic_search</td>\n",
              "    </tr>\n",
              "    <tr>\n",
              "      <th>2249</th>\n",
              "      <td>88a683d5-a492-4aa7-8e06-6463614c5a54</td>\n",
              "      <td>2021-02-11 05:43:00</td>\n",
              "      <td>2021-01-05 11:23:00</td>\n",
              "      <td>NaT</td>\n",
              "      <td>active</td>\n",
              "      <td>5.28.9</td>\n",
              "      <td>Duarte</td>\n",
              "      <td>TO</td>\n",
              "      <td>Conjunto Jatoba</td>\n",
              "      <td>2021-01-05 11:23:00</td>\n",
              "      <td>217.699268</td>\n",
              "      <td>14</td>\n",
              "      <td>0.000000</td>\n",
              "      <td>0</td>\n",
              "      <td>44</td>\n",
              "      <td>organic_search</td>\n",
              "    </tr>\n",
              "    <tr>\n",
              "      <th>148</th>\n",
              "      <td>1767f040-ba75-419e-8a9a-0c1db35e6550</td>\n",
              "      <td>2021-02-11 05:43:00</td>\n",
              "      <td>2021-01-09 11:23:00</td>\n",
              "      <td>NaT</td>\n",
              "      <td>active</td>\n",
              "      <td>2.33.10</td>\n",
              "      <td>Moraes</td>\n",
              "      <td>RR</td>\n",
              "      <td>Dom Joaquim</td>\n",
              "      <td>2021-01-09 11:23:00</td>\n",
              "      <td>197.866995</td>\n",
              "      <td>5</td>\n",
              "      <td>0.000000</td>\n",
              "      <td>0</td>\n",
              "      <td>40</td>\n",
              "      <td>telegram_whatsapp</td>\n",
              "    </tr>\n",
              "  </tbody>\n",
              "</table>\n",
              "</div>\n",
              "      <button class=\"colab-df-convert\" onclick=\"convertToInteractive('df-13dc990d-b0de-4553-9efc-f7bf03ca93e4')\"\n",
              "              title=\"Convert this dataframe to an interactive table.\"\n",
              "              style=\"display:none;\">\n",
              "        \n",
              "  <svg xmlns=\"http://www.w3.org/2000/svg\" height=\"24px\"viewBox=\"0 0 24 24\"\n",
              "       width=\"24px\">\n",
              "    <path d=\"M0 0h24v24H0V0z\" fill=\"none\"/>\n",
              "    <path d=\"M18.56 5.44l.94 2.06.94-2.06 2.06-.94-2.06-.94-.94-2.06-.94 2.06-2.06.94zm-11 1L8.5 8.5l.94-2.06 2.06-.94-2.06-.94L8.5 2.5l-.94 2.06-2.06.94zm10 10l.94 2.06.94-2.06 2.06-.94-2.06-.94-.94-2.06-.94 2.06-2.06.94z\"/><path d=\"M17.41 7.96l-1.37-1.37c-.4-.4-.92-.59-1.43-.59-.52 0-1.04.2-1.43.59L10.3 9.45l-7.72 7.72c-.78.78-.78 2.05 0 2.83L4 21.41c.39.39.9.59 1.41.59.51 0 1.02-.2 1.41-.59l7.78-7.78 2.81-2.81c.8-.78.8-2.07 0-2.86zM5.41 20L4 18.59l7.72-7.72 1.47 1.35L5.41 20z\"/>\n",
              "  </svg>\n",
              "      </button>\n",
              "      \n",
              "  <style>\n",
              "    .colab-df-container {\n",
              "      display:flex;\n",
              "      flex-wrap:wrap;\n",
              "      gap: 12px;\n",
              "    }\n",
              "\n",
              "    .colab-df-convert {\n",
              "      background-color: #E8F0FE;\n",
              "      border: none;\n",
              "      border-radius: 50%;\n",
              "      cursor: pointer;\n",
              "      display: none;\n",
              "      fill: #1967D2;\n",
              "      height: 32px;\n",
              "      padding: 0 0 0 0;\n",
              "      width: 32px;\n",
              "    }\n",
              "\n",
              "    .colab-df-convert:hover {\n",
              "      background-color: #E2EBFA;\n",
              "      box-shadow: 0px 1px 2px rgba(60, 64, 67, 0.3), 0px 1px 3px 1px rgba(60, 64, 67, 0.15);\n",
              "      fill: #174EA6;\n",
              "    }\n",
              "\n",
              "    [theme=dark] .colab-df-convert {\n",
              "      background-color: #3B4455;\n",
              "      fill: #D2E3FC;\n",
              "    }\n",
              "\n",
              "    [theme=dark] .colab-df-convert:hover {\n",
              "      background-color: #434B5C;\n",
              "      box-shadow: 0px 1px 3px 1px rgba(0, 0, 0, 0.15);\n",
              "      filter: drop-shadow(0px 1px 2px rgba(0, 0, 0, 0.3));\n",
              "      fill: #FFFFFF;\n",
              "    }\n",
              "  </style>\n",
              "\n",
              "      <script>\n",
              "        const buttonEl =\n",
              "          document.querySelector('#df-13dc990d-b0de-4553-9efc-f7bf03ca93e4 button.colab-df-convert');\n",
              "        buttonEl.style.display =\n",
              "          google.colab.kernel.accessAllowed ? 'block' : 'none';\n",
              "\n",
              "        async function convertToInteractive(key) {\n",
              "          const element = document.querySelector('#df-13dc990d-b0de-4553-9efc-f7bf03ca93e4');\n",
              "          const dataTable =\n",
              "            await google.colab.kernel.invokeFunction('convertToInteractive',\n",
              "                                                     [key], {});\n",
              "          if (!dataTable) return;\n",
              "\n",
              "          const docLinkHtml = 'Like what you see? Visit the ' +\n",
              "            '<a target=\"_blank\" href=https://colab.research.google.com/notebooks/data_table.ipynb>data table notebook</a>'\n",
              "            + ' to learn more about interactive tables.';\n",
              "          element.innerHTML = '';\n",
              "          dataTable['output_type'] = 'display_data';\n",
              "          await google.colab.output.renderOutput(dataTable, element);\n",
              "          const docLink = document.createElement('div');\n",
              "          docLink.innerHTML = docLinkHtml;\n",
              "          element.appendChild(docLink);\n",
              "        }\n",
              "      </script>\n",
              "    </div>\n",
              "  </div>\n",
              "  "
            ]
          },
          "metadata": {},
          "execution_count": 261
        }
      ]
    },
    {
      "cell_type": "code",
      "source": [
        "churn_df.columns"
      ],
      "metadata": {
        "colab": {
          "base_uri": "https://localhost:8080/"
        },
        "id": "0A4swoXYtaF0",
        "outputId": "9622c607-5df2-4f83-ba60-e0d4567d1df2"
      },
      "execution_count": 262,
      "outputs": [
        {
          "output_type": "execute_result",
          "data": {
            "text/plain": [
              "Index(['id', 'created_at', 'updated_at', 'deleted_at', 'status', 'version',\n",
              "       'city', 'state', 'neighborhood', 'last_date_purchase', 'average_ticket',\n",
              "       'items_quantity', 'all_revenue', 'all_orders', 'recency',\n",
              "       'marketing_source'],\n",
              "      dtype='object')"
            ]
          },
          "metadata": {},
          "execution_count": 262
        }
      ]
    },
    {
      "cell_type": "markdown",
      "source": [
        "Check inconsistency"
      ],
      "metadata": {
        "id": "4ngvHT5QwrTt"
      }
    },
    {
      "cell_type": "code",
      "source": [
        "# Define a mask to filter the rows based on the following conditions:\n",
        "# 1. 'created_at' should be less than or equal to 'updated_at'\n",
        "# 2. 'created_at' should be less than or equal to 'deleted_at'\n",
        "# 3. 'created_at' should be less than or equal to 'last_date_purchase'\n",
        "# 4. 'last_date_purchase' should be less than or equal to 'deleted_at' (if it exists)\n",
        "#    Otherwise, it should be less than or equal to the current date and time\n",
        "\n",
        "mask = (churn_df['created_at'] <= churn_df['updated_at']) & \\\n",
        "        (churn_df['created_at'] <= churn_df['deleted_at'].fillna(pd.Timestamp.now())) & \\\n",
        "        (churn_df['last_date_purchase'] <= churn_df['deleted_at'].fillna(pd.Timestamp.now())) & \\\n",
        "        (churn_df['created_at'] <= churn_df['last_date_purchase'])\n",
        "\n",
        "# Filter the churn data using the mask and update the churn data with the filtered data\n",
        "consistent = churn_df[mask]\n",
        "inconcistent = churn_df[~mask]"
      ],
      "metadata": {
        "id": "NEhO5DOmw9DJ"
      },
      "execution_count": 263,
      "outputs": []
    },
    {
      "cell_type": "code",
      "source": [
        "len(inconcistent), len(consistent)"
      ],
      "metadata": {
        "colab": {
          "base_uri": "https://localhost:8080/"
        },
        "id": "qSVmGKF78CFd",
        "outputId": "ca3e012b-61c8-4821-b6a8-037b88f19caa"
      },
      "execution_count": 264,
      "outputs": [
        {
          "output_type": "execute_result",
          "data": {
            "text/plain": [
              "(177, 9823)"
            ]
          },
          "metadata": {},
          "execution_count": 264
        }
      ]
    },
    {
      "cell_type": "code",
      "source": [
        "# Check the status values to see if it is possible to drop inconsistent values\n",
        "inconcistent['status'].value_counts()"
      ],
      "metadata": {
        "colab": {
          "base_uri": "https://localhost:8080/"
        },
        "id": "TEshyVEuF-XS",
        "outputId": "2b39d92e-e41f-4aaa-ce46-e891c045e6b1"
      },
      "execution_count": 265,
      "outputs": [
        {
          "output_type": "execute_result",
          "data": {
            "text/plain": [
              "active    154\n",
              "paused     23\n",
              "Name: status, dtype: int64"
            ]
          },
          "metadata": {},
          "execution_count": 265
        }
      ]
    },
    {
      "cell_type": "code",
      "source": [
        "churn_df = consistent"
      ],
      "metadata": {
        "id": "FkKmpW63-QkI"
      },
      "execution_count": 266,
      "outputs": []
    },
    {
      "cell_type": "markdown",
      "source": [
        "Cross-validation"
      ],
      "metadata": {
        "id": "Q5tTqo1Or-YE"
      }
    },
    {
      "cell_type": "code",
      "source": [
        "# Check if avarage ticket times all_orders is equal to all_revenue\n",
        "# Take precision when multiplicating floats into account\n",
        "tolerance = 0.1\n",
        "mask = abs(churn_df['average_ticket'] * churn_df['all_orders'] - churn_df['all_revenue']) < tolerance\n",
        "churn_df = churn_df[mask]"
      ],
      "metadata": {
        "id": "NDAPogX3sGW7"
      },
      "execution_count": 267,
      "outputs": []
    },
    {
      "cell_type": "code",
      "source": [
        "# Select rows where 'deleted_at' column is not null\n",
        "deleted_churn = churn_df[~pd.isna(churn_df['deleted_at'])]\n",
        "\n",
        "# Select rows where 'status' column is 'canceled'\n",
        "canceled_churn = churn_df[churn_df['status'] == 'canceled']\n",
        "\n",
        "# Check if all canceled subscriptions have 'deleted_at' values\n",
        "result = (deleted_churn == canceled_churn).isna().any().sum() == 0\n",
        "\n",
        "if result:\n",
        "  print(\"All canceled subscriptions have 'deleted_at' values\")"
      ],
      "metadata": {
        "colab": {
          "base_uri": "https://localhost:8080/"
        },
        "id": "e4sWqANu-8lW",
        "outputId": "0cb5688e-5c89-4a77-a5d4-a7dcdd960fc8"
      },
      "execution_count": 268,
      "outputs": [
        {
          "output_type": "stream",
          "name": "stdout",
          "text": [
            "All canceled subscriptions have 'deleted_at' values\n"
          ]
        }
      ]
    },
    {
      "cell_type": "code",
      "source": [
        "# Create a new column that shows the time since the last purchase in the subscription\n",
        "churn_df['recency_subscription'] = (churn_df['last_date_purchase'].max() - churn_df['last_date_purchase']).dt.days\n",
        "\n",
        "\n",
        "# For clients who have a value in the 'deleted_at' column, calculate the difference\n",
        "# between the 'deleted_at' and 'last_date_purchase' columns and use that value to\n",
        "# create a coolumn 'recency_subscription'.\n",
        "churn_df.loc[churn_df['deleted_at'].notnull(), 'recency_subscription'] = \\\n",
        "          (churn_df['deleted_at'] - churn_df['last_date_purchase']).dt.days"
      ],
      "metadata": {
        "id": "GJ6-3fuE4RUB"
      },
      "execution_count": 269,
      "outputs": []
    },
    {
      "cell_type": "code",
      "source": [
        "churn_df['recency_subscription']"
      ],
      "metadata": {
        "colab": {
          "base_uri": "https://localhost:8080/"
        },
        "id": "nUdcitCIAzwn",
        "outputId": "116d225e-c7f4-4d6a-fc0f-d3d76865058e"
      },
      "execution_count": 270,
      "outputs": [
        {
          "output_type": "execute_result",
          "data": {
            "text/plain": [
              "0       33\n",
              "1       39\n",
              "2       40\n",
              "3       37\n",
              "4       29\n",
              "        ..\n",
              "9995    16\n",
              "9996    29\n",
              "9997    44\n",
              "9998    38\n",
              "9999    31\n",
              "Name: recency_subscription, Length: 9823, dtype: int64"
            ]
          },
          "metadata": {},
          "execution_count": 270
        }
      ]
    },
    {
      "cell_type": "markdown",
      "source": [
        "#Exploratory Data Analysis"
      ],
      "metadata": {
        "id": "jpE841ecHYOr"
      }
    },
    {
      "cell_type": "code",
      "source": [
        "churn_df.sort_values(by = 'created_at', inplace = True)"
      ],
      "metadata": {
        "id": "VEXR5GO4UFWK"
      },
      "execution_count": 271,
      "outputs": []
    },
    {
      "cell_type": "code",
      "source": [
        "churn_df.info()"
      ],
      "metadata": {
        "colab": {
          "base_uri": "https://localhost:8080/"
        },
        "id": "7AVIx-f9JgkO",
        "outputId": "2e2f6bd9-cdd3-42cd-b943-2796ac655968"
      },
      "execution_count": 272,
      "outputs": [
        {
          "output_type": "stream",
          "name": "stdout",
          "text": [
            "<class 'pandas.core.frame.DataFrame'>\n",
            "Int64Index: 9823 entries, 7189 to 3085\n",
            "Data columns (total 17 columns):\n",
            " #   Column                Non-Null Count  Dtype         \n",
            "---  ------                --------------  -----         \n",
            " 0   id                    9823 non-null   object        \n",
            " 1   created_at            9823 non-null   datetime64[ns]\n",
            " 2   updated_at            9823 non-null   datetime64[ns]\n",
            " 3   deleted_at            505 non-null    datetime64[ns]\n",
            " 4   status                9823 non-null   object        \n",
            " 5   version               9823 non-null   object        \n",
            " 6   city                  9823 non-null   object        \n",
            " 7   state                 9823 non-null   object        \n",
            " 8   neighborhood          9823 non-null   object        \n",
            " 9   last_date_purchase    9823 non-null   datetime64[ns]\n",
            " 10  average_ticket        9823 non-null   float64       \n",
            " 11  items_quantity        9823 non-null   int64         \n",
            " 12  all_revenue           9823 non-null   float64       \n",
            " 13  all_orders            9823 non-null   int64         \n",
            " 14  recency               9823 non-null   int64         \n",
            " 15  marketing_source      9823 non-null   object        \n",
            " 16  recency_subscription  9823 non-null   int64         \n",
            "dtypes: datetime64[ns](4), float64(2), int64(4), object(7)\n",
            "memory usage: 1.3+ MB\n"
          ]
        }
      ]
    },
    {
      "cell_type": "code",
      "source": [
        "churn_df.describe()"
      ],
      "metadata": {
        "colab": {
          "base_uri": "https://localhost:8080/",
          "height": 300
        },
        "id": "mkPahq7UIJ1p",
        "outputId": "c8b4bfcb-c451-44af-f49a-97b54d297864"
      },
      "execution_count": 273,
      "outputs": [
        {
          "output_type": "execute_result",
          "data": {
            "text/plain": [
              "       average_ticket  items_quantity  all_revenue   all_orders      recency  \\\n",
              "count     9823.000000     9823.000000  9823.000000  9823.000000  9823.000000   \n",
              "mean       216.954562        8.498218  1195.752641     5.511555    67.759748   \n",
              "std         22.752313        3.028873   753.805994     3.412705   177.246663   \n",
              "min        131.378672        1.000000     0.000000     0.000000     1.000000   \n",
              "25%        201.463054        6.000000   562.457066     3.000000    31.000000   \n",
              "50%        217.064719        8.000000  1192.673261     6.000000    35.000000   \n",
              "75%        232.509877       11.000000  1809.591401     8.000000    39.000000   \n",
              "max        303.386848       19.000000  3225.654163    11.000000  1820.000000   \n",
              "\n",
              "       recency_subscription  \n",
              "count           9823.000000  \n",
              "mean              43.042248  \n",
              "std               77.103349  \n",
              "min                0.000000  \n",
              "25%               28.000000  \n",
              "50%               33.000000  \n",
              "75%               37.000000  \n",
              "max             1516.000000  "
            ],
            "text/html": [
              "\n",
              "  <div id=\"df-7910b913-b7c1-4699-bafc-ed6bdcdd71fd\">\n",
              "    <div class=\"colab-df-container\">\n",
              "      <div>\n",
              "<style scoped>\n",
              "    .dataframe tbody tr th:only-of-type {\n",
              "        vertical-align: middle;\n",
              "    }\n",
              "\n",
              "    .dataframe tbody tr th {\n",
              "        vertical-align: top;\n",
              "    }\n",
              "\n",
              "    .dataframe thead th {\n",
              "        text-align: right;\n",
              "    }\n",
              "</style>\n",
              "<table border=\"1\" class=\"dataframe\">\n",
              "  <thead>\n",
              "    <tr style=\"text-align: right;\">\n",
              "      <th></th>\n",
              "      <th>average_ticket</th>\n",
              "      <th>items_quantity</th>\n",
              "      <th>all_revenue</th>\n",
              "      <th>all_orders</th>\n",
              "      <th>recency</th>\n",
              "      <th>recency_subscription</th>\n",
              "    </tr>\n",
              "  </thead>\n",
              "  <tbody>\n",
              "    <tr>\n",
              "      <th>count</th>\n",
              "      <td>9823.000000</td>\n",
              "      <td>9823.000000</td>\n",
              "      <td>9823.000000</td>\n",
              "      <td>9823.000000</td>\n",
              "      <td>9823.000000</td>\n",
              "      <td>9823.000000</td>\n",
              "    </tr>\n",
              "    <tr>\n",
              "      <th>mean</th>\n",
              "      <td>216.954562</td>\n",
              "      <td>8.498218</td>\n",
              "      <td>1195.752641</td>\n",
              "      <td>5.511555</td>\n",
              "      <td>67.759748</td>\n",
              "      <td>43.042248</td>\n",
              "    </tr>\n",
              "    <tr>\n",
              "      <th>std</th>\n",
              "      <td>22.752313</td>\n",
              "      <td>3.028873</td>\n",
              "      <td>753.805994</td>\n",
              "      <td>3.412705</td>\n",
              "      <td>177.246663</td>\n",
              "      <td>77.103349</td>\n",
              "    </tr>\n",
              "    <tr>\n",
              "      <th>min</th>\n",
              "      <td>131.378672</td>\n",
              "      <td>1.000000</td>\n",
              "      <td>0.000000</td>\n",
              "      <td>0.000000</td>\n",
              "      <td>1.000000</td>\n",
              "      <td>0.000000</td>\n",
              "    </tr>\n",
              "    <tr>\n",
              "      <th>25%</th>\n",
              "      <td>201.463054</td>\n",
              "      <td>6.000000</td>\n",
              "      <td>562.457066</td>\n",
              "      <td>3.000000</td>\n",
              "      <td>31.000000</td>\n",
              "      <td>28.000000</td>\n",
              "    </tr>\n",
              "    <tr>\n",
              "      <th>50%</th>\n",
              "      <td>217.064719</td>\n",
              "      <td>8.000000</td>\n",
              "      <td>1192.673261</td>\n",
              "      <td>6.000000</td>\n",
              "      <td>35.000000</td>\n",
              "      <td>33.000000</td>\n",
              "    </tr>\n",
              "    <tr>\n",
              "      <th>75%</th>\n",
              "      <td>232.509877</td>\n",
              "      <td>11.000000</td>\n",
              "      <td>1809.591401</td>\n",
              "      <td>8.000000</td>\n",
              "      <td>39.000000</td>\n",
              "      <td>37.000000</td>\n",
              "    </tr>\n",
              "    <tr>\n",
              "      <th>max</th>\n",
              "      <td>303.386848</td>\n",
              "      <td>19.000000</td>\n",
              "      <td>3225.654163</td>\n",
              "      <td>11.000000</td>\n",
              "      <td>1820.000000</td>\n",
              "      <td>1516.000000</td>\n",
              "    </tr>\n",
              "  </tbody>\n",
              "</table>\n",
              "</div>\n",
              "      <button class=\"colab-df-convert\" onclick=\"convertToInteractive('df-7910b913-b7c1-4699-bafc-ed6bdcdd71fd')\"\n",
              "              title=\"Convert this dataframe to an interactive table.\"\n",
              "              style=\"display:none;\">\n",
              "        \n",
              "  <svg xmlns=\"http://www.w3.org/2000/svg\" height=\"24px\"viewBox=\"0 0 24 24\"\n",
              "       width=\"24px\">\n",
              "    <path d=\"M0 0h24v24H0V0z\" fill=\"none\"/>\n",
              "    <path d=\"M18.56 5.44l.94 2.06.94-2.06 2.06-.94-2.06-.94-.94-2.06-.94 2.06-2.06.94zm-11 1L8.5 8.5l.94-2.06 2.06-.94-2.06-.94L8.5 2.5l-.94 2.06-2.06.94zm10 10l.94 2.06.94-2.06 2.06-.94-2.06-.94-.94-2.06-.94 2.06-2.06.94z\"/><path d=\"M17.41 7.96l-1.37-1.37c-.4-.4-.92-.59-1.43-.59-.52 0-1.04.2-1.43.59L10.3 9.45l-7.72 7.72c-.78.78-.78 2.05 0 2.83L4 21.41c.39.39.9.59 1.41.59.51 0 1.02-.2 1.41-.59l7.78-7.78 2.81-2.81c.8-.78.8-2.07 0-2.86zM5.41 20L4 18.59l7.72-7.72 1.47 1.35L5.41 20z\"/>\n",
              "  </svg>\n",
              "      </button>\n",
              "      \n",
              "  <style>\n",
              "    .colab-df-container {\n",
              "      display:flex;\n",
              "      flex-wrap:wrap;\n",
              "      gap: 12px;\n",
              "    }\n",
              "\n",
              "    .colab-df-convert {\n",
              "      background-color: #E8F0FE;\n",
              "      border: none;\n",
              "      border-radius: 50%;\n",
              "      cursor: pointer;\n",
              "      display: none;\n",
              "      fill: #1967D2;\n",
              "      height: 32px;\n",
              "      padding: 0 0 0 0;\n",
              "      width: 32px;\n",
              "    }\n",
              "\n",
              "    .colab-df-convert:hover {\n",
              "      background-color: #E2EBFA;\n",
              "      box-shadow: 0px 1px 2px rgba(60, 64, 67, 0.3), 0px 1px 3px 1px rgba(60, 64, 67, 0.15);\n",
              "      fill: #174EA6;\n",
              "    }\n",
              "\n",
              "    [theme=dark] .colab-df-convert {\n",
              "      background-color: #3B4455;\n",
              "      fill: #D2E3FC;\n",
              "    }\n",
              "\n",
              "    [theme=dark] .colab-df-convert:hover {\n",
              "      background-color: #434B5C;\n",
              "      box-shadow: 0px 1px 3px 1px rgba(0, 0, 0, 0.15);\n",
              "      filter: drop-shadow(0px 1px 2px rgba(0, 0, 0, 0.3));\n",
              "      fill: #FFFFFF;\n",
              "    }\n",
              "  </style>\n",
              "\n",
              "      <script>\n",
              "        const buttonEl =\n",
              "          document.querySelector('#df-7910b913-b7c1-4699-bafc-ed6bdcdd71fd button.colab-df-convert');\n",
              "        buttonEl.style.display =\n",
              "          google.colab.kernel.accessAllowed ? 'block' : 'none';\n",
              "\n",
              "        async function convertToInteractive(key) {\n",
              "          const element = document.querySelector('#df-7910b913-b7c1-4699-bafc-ed6bdcdd71fd');\n",
              "          const dataTable =\n",
              "            await google.colab.kernel.invokeFunction('convertToInteractive',\n",
              "                                                     [key], {});\n",
              "          if (!dataTable) return;\n",
              "\n",
              "          const docLinkHtml = 'Like what you see? Visit the ' +\n",
              "            '<a target=\"_blank\" href=https://colab.research.google.com/notebooks/data_table.ipynb>data table notebook</a>'\n",
              "            + ' to learn more about interactive tables.';\n",
              "          element.innerHTML = '';\n",
              "          dataTable['output_type'] = 'display_data';\n",
              "          await google.colab.output.renderOutput(dataTable, element);\n",
              "          const docLink = document.createElement('div');\n",
              "          docLink.innerHTML = docLinkHtml;\n",
              "          element.appendChild(docLink);\n",
              "        }\n",
              "      </script>\n",
              "    </div>\n",
              "  </div>\n",
              "  "
            ]
          },
          "metadata": {},
          "execution_count": 273
        }
      ]
    },
    {
      "cell_type": "code",
      "source": [
        "# Set color palette\n",
        "colors = [\"#DE8F8F\", \"#8FB8DE\"]\n",
        "sns.set_palette(sns.color_palette(colors))\n",
        "\n",
        "#set context\n",
        "sns.set_context(\"notebook\")"
      ],
      "metadata": {
        "id": "LGK5HIHxyYNK"
      },
      "execution_count": 274,
      "outputs": []
    },
    {
      "cell_type": "markdown",
      "source": [
        "Create a new churn column and look at some descriptive statistics"
      ],
      "metadata": {
        "id": "Xfv_leK6bB0w"
      }
    },
    {
      "cell_type": "code",
      "source": [
        "# Create a new column to address churned clients\n",
        "churn_df['churn'] = pd.isna(churn_df['deleted_at']).apply(lambda deleted: \"Yes\" if not deleted else \"No\")"
      ],
      "metadata": {
        "id": "evauPVK8J3YD"
      },
      "execution_count": 275,
      "outputs": []
    },
    {
      "cell_type": "code",
      "source": [
        "churn_df.groupby('churn').mean(numeric_only = True)"
      ],
      "metadata": {
        "colab": {
          "base_uri": "https://localhost:8080/",
          "height": 143
        },
        "id": "STivGXDhLjFf",
        "outputId": "a8b22ddf-598d-4c29-d53e-fbd3020f040c"
      },
      "execution_count": 276,
      "outputs": [
        {
          "output_type": "execute_result",
          "data": {
            "text/plain": [
              "       average_ticket  items_quantity  all_revenue  all_orders     recency  \\\n",
              "churn                                                                        \n",
              "No         216.928334        8.490127  1203.142122    5.547006   34.526079   \n",
              "Yes        217.438501        8.647525  1059.405752    4.857426  680.970297   \n",
              "\n",
              "       recency_subscription  \n",
              "churn                        \n",
              "No                32.526079  \n",
              "Yes              237.081188  "
            ],
            "text/html": [
              "\n",
              "  <div id=\"df-e95266ba-51a8-456a-b3ce-a2ab03d59b04\">\n",
              "    <div class=\"colab-df-container\">\n",
              "      <div>\n",
              "<style scoped>\n",
              "    .dataframe tbody tr th:only-of-type {\n",
              "        vertical-align: middle;\n",
              "    }\n",
              "\n",
              "    .dataframe tbody tr th {\n",
              "        vertical-align: top;\n",
              "    }\n",
              "\n",
              "    .dataframe thead th {\n",
              "        text-align: right;\n",
              "    }\n",
              "</style>\n",
              "<table border=\"1\" class=\"dataframe\">\n",
              "  <thead>\n",
              "    <tr style=\"text-align: right;\">\n",
              "      <th></th>\n",
              "      <th>average_ticket</th>\n",
              "      <th>items_quantity</th>\n",
              "      <th>all_revenue</th>\n",
              "      <th>all_orders</th>\n",
              "      <th>recency</th>\n",
              "      <th>recency_subscription</th>\n",
              "    </tr>\n",
              "    <tr>\n",
              "      <th>churn</th>\n",
              "      <th></th>\n",
              "      <th></th>\n",
              "      <th></th>\n",
              "      <th></th>\n",
              "      <th></th>\n",
              "      <th></th>\n",
              "    </tr>\n",
              "  </thead>\n",
              "  <tbody>\n",
              "    <tr>\n",
              "      <th>No</th>\n",
              "      <td>216.928334</td>\n",
              "      <td>8.490127</td>\n",
              "      <td>1203.142122</td>\n",
              "      <td>5.547006</td>\n",
              "      <td>34.526079</td>\n",
              "      <td>32.526079</td>\n",
              "    </tr>\n",
              "    <tr>\n",
              "      <th>Yes</th>\n",
              "      <td>217.438501</td>\n",
              "      <td>8.647525</td>\n",
              "      <td>1059.405752</td>\n",
              "      <td>4.857426</td>\n",
              "      <td>680.970297</td>\n",
              "      <td>237.081188</td>\n",
              "    </tr>\n",
              "  </tbody>\n",
              "</table>\n",
              "</div>\n",
              "      <button class=\"colab-df-convert\" onclick=\"convertToInteractive('df-e95266ba-51a8-456a-b3ce-a2ab03d59b04')\"\n",
              "              title=\"Convert this dataframe to an interactive table.\"\n",
              "              style=\"display:none;\">\n",
              "        \n",
              "  <svg xmlns=\"http://www.w3.org/2000/svg\" height=\"24px\"viewBox=\"0 0 24 24\"\n",
              "       width=\"24px\">\n",
              "    <path d=\"M0 0h24v24H0V0z\" fill=\"none\"/>\n",
              "    <path d=\"M18.56 5.44l.94 2.06.94-2.06 2.06-.94-2.06-.94-.94-2.06-.94 2.06-2.06.94zm-11 1L8.5 8.5l.94-2.06 2.06-.94-2.06-.94L8.5 2.5l-.94 2.06-2.06.94zm10 10l.94 2.06.94-2.06 2.06-.94-2.06-.94-.94-2.06-.94 2.06-2.06.94z\"/><path d=\"M17.41 7.96l-1.37-1.37c-.4-.4-.92-.59-1.43-.59-.52 0-1.04.2-1.43.59L10.3 9.45l-7.72 7.72c-.78.78-.78 2.05 0 2.83L4 21.41c.39.39.9.59 1.41.59.51 0 1.02-.2 1.41-.59l7.78-7.78 2.81-2.81c.8-.78.8-2.07 0-2.86zM5.41 20L4 18.59l7.72-7.72 1.47 1.35L5.41 20z\"/>\n",
              "  </svg>\n",
              "      </button>\n",
              "      \n",
              "  <style>\n",
              "    .colab-df-container {\n",
              "      display:flex;\n",
              "      flex-wrap:wrap;\n",
              "      gap: 12px;\n",
              "    }\n",
              "\n",
              "    .colab-df-convert {\n",
              "      background-color: #E8F0FE;\n",
              "      border: none;\n",
              "      border-radius: 50%;\n",
              "      cursor: pointer;\n",
              "      display: none;\n",
              "      fill: #1967D2;\n",
              "      height: 32px;\n",
              "      padding: 0 0 0 0;\n",
              "      width: 32px;\n",
              "    }\n",
              "\n",
              "    .colab-df-convert:hover {\n",
              "      background-color: #E2EBFA;\n",
              "      box-shadow: 0px 1px 2px rgba(60, 64, 67, 0.3), 0px 1px 3px 1px rgba(60, 64, 67, 0.15);\n",
              "      fill: #174EA6;\n",
              "    }\n",
              "\n",
              "    [theme=dark] .colab-df-convert {\n",
              "      background-color: #3B4455;\n",
              "      fill: #D2E3FC;\n",
              "    }\n",
              "\n",
              "    [theme=dark] .colab-df-convert:hover {\n",
              "      background-color: #434B5C;\n",
              "      box-shadow: 0px 1px 3px 1px rgba(0, 0, 0, 0.15);\n",
              "      filter: drop-shadow(0px 1px 2px rgba(0, 0, 0, 0.3));\n",
              "      fill: #FFFFFF;\n",
              "    }\n",
              "  </style>\n",
              "\n",
              "      <script>\n",
              "        const buttonEl =\n",
              "          document.querySelector('#df-e95266ba-51a8-456a-b3ce-a2ab03d59b04 button.colab-df-convert');\n",
              "        buttonEl.style.display =\n",
              "          google.colab.kernel.accessAllowed ? 'block' : 'none';\n",
              "\n",
              "        async function convertToInteractive(key) {\n",
              "          const element = document.querySelector('#df-e95266ba-51a8-456a-b3ce-a2ab03d59b04');\n",
              "          const dataTable =\n",
              "            await google.colab.kernel.invokeFunction('convertToInteractive',\n",
              "                                                     [key], {});\n",
              "          if (!dataTable) return;\n",
              "\n",
              "          const docLinkHtml = 'Like what you see? Visit the ' +\n",
              "            '<a target=\"_blank\" href=https://colab.research.google.com/notebooks/data_table.ipynb>data table notebook</a>'\n",
              "            + ' to learn more about interactive tables.';\n",
              "          element.innerHTML = '';\n",
              "          dataTable['output_type'] = 'display_data';\n",
              "          await google.colab.output.renderOutput(dataTable, element);\n",
              "          const docLink = document.createElement('div');\n",
              "          docLink.innerHTML = docLinkHtml;\n",
              "          element.appendChild(docLink);\n",
              "        }\n",
              "      </script>\n",
              "    </div>\n",
              "  </div>\n",
              "  "
            ]
          },
          "metadata": {},
          "execution_count": 276
        }
      ]
    },
    {
      "cell_type": "code",
      "source": [
        "churn_df.groupby('churn').std(numeric_only = True)"
      ],
      "metadata": {
        "colab": {
          "base_uri": "https://localhost:8080/",
          "height": 143
        },
        "id": "PGiNNVDdMDs1",
        "outputId": "9c8c3225-6cf7-4530-d8fd-a0c765c71d54"
      },
      "execution_count": 277,
      "outputs": [
        {
          "output_type": "execute_result",
          "data": {
            "text/plain": [
              "       average_ticket  items_quantity  all_revenue  all_orders     recency  \\\n",
              "churn                                                                        \n",
              "No          22.766637        3.032941   752.011937    3.405432    6.052941   \n",
              "Yes         22.503191        2.951748   774.373741    3.483446  463.006656   \n",
              "\n",
              "       recency_subscription  \n",
              "churn                        \n",
              "No                 6.052941  \n",
              "Yes              274.604418  "
            ],
            "text/html": [
              "\n",
              "  <div id=\"df-0959ebe2-68b0-4421-a860-d8fe7e5f1f41\">\n",
              "    <div class=\"colab-df-container\">\n",
              "      <div>\n",
              "<style scoped>\n",
              "    .dataframe tbody tr th:only-of-type {\n",
              "        vertical-align: middle;\n",
              "    }\n",
              "\n",
              "    .dataframe tbody tr th {\n",
              "        vertical-align: top;\n",
              "    }\n",
              "\n",
              "    .dataframe thead th {\n",
              "        text-align: right;\n",
              "    }\n",
              "</style>\n",
              "<table border=\"1\" class=\"dataframe\">\n",
              "  <thead>\n",
              "    <tr style=\"text-align: right;\">\n",
              "      <th></th>\n",
              "      <th>average_ticket</th>\n",
              "      <th>items_quantity</th>\n",
              "      <th>all_revenue</th>\n",
              "      <th>all_orders</th>\n",
              "      <th>recency</th>\n",
              "      <th>recency_subscription</th>\n",
              "    </tr>\n",
              "    <tr>\n",
              "      <th>churn</th>\n",
              "      <th></th>\n",
              "      <th></th>\n",
              "      <th></th>\n",
              "      <th></th>\n",
              "      <th></th>\n",
              "      <th></th>\n",
              "    </tr>\n",
              "  </thead>\n",
              "  <tbody>\n",
              "    <tr>\n",
              "      <th>No</th>\n",
              "      <td>22.766637</td>\n",
              "      <td>3.032941</td>\n",
              "      <td>752.011937</td>\n",
              "      <td>3.405432</td>\n",
              "      <td>6.052941</td>\n",
              "      <td>6.052941</td>\n",
              "    </tr>\n",
              "    <tr>\n",
              "      <th>Yes</th>\n",
              "      <td>22.503191</td>\n",
              "      <td>2.951748</td>\n",
              "      <td>774.373741</td>\n",
              "      <td>3.483446</td>\n",
              "      <td>463.006656</td>\n",
              "      <td>274.604418</td>\n",
              "    </tr>\n",
              "  </tbody>\n",
              "</table>\n",
              "</div>\n",
              "      <button class=\"colab-df-convert\" onclick=\"convertToInteractive('df-0959ebe2-68b0-4421-a860-d8fe7e5f1f41')\"\n",
              "              title=\"Convert this dataframe to an interactive table.\"\n",
              "              style=\"display:none;\">\n",
              "        \n",
              "  <svg xmlns=\"http://www.w3.org/2000/svg\" height=\"24px\"viewBox=\"0 0 24 24\"\n",
              "       width=\"24px\">\n",
              "    <path d=\"M0 0h24v24H0V0z\" fill=\"none\"/>\n",
              "    <path d=\"M18.56 5.44l.94 2.06.94-2.06 2.06-.94-2.06-.94-.94-2.06-.94 2.06-2.06.94zm-11 1L8.5 8.5l.94-2.06 2.06-.94-2.06-.94L8.5 2.5l-.94 2.06-2.06.94zm10 10l.94 2.06.94-2.06 2.06-.94-2.06-.94-.94-2.06-.94 2.06-2.06.94z\"/><path d=\"M17.41 7.96l-1.37-1.37c-.4-.4-.92-.59-1.43-.59-.52 0-1.04.2-1.43.59L10.3 9.45l-7.72 7.72c-.78.78-.78 2.05 0 2.83L4 21.41c.39.39.9.59 1.41.59.51 0 1.02-.2 1.41-.59l7.78-7.78 2.81-2.81c.8-.78.8-2.07 0-2.86zM5.41 20L4 18.59l7.72-7.72 1.47 1.35L5.41 20z\"/>\n",
              "  </svg>\n",
              "      </button>\n",
              "      \n",
              "  <style>\n",
              "    .colab-df-container {\n",
              "      display:flex;\n",
              "      flex-wrap:wrap;\n",
              "      gap: 12px;\n",
              "    }\n",
              "\n",
              "    .colab-df-convert {\n",
              "      background-color: #E8F0FE;\n",
              "      border: none;\n",
              "      border-radius: 50%;\n",
              "      cursor: pointer;\n",
              "      display: none;\n",
              "      fill: #1967D2;\n",
              "      height: 32px;\n",
              "      padding: 0 0 0 0;\n",
              "      width: 32px;\n",
              "    }\n",
              "\n",
              "    .colab-df-convert:hover {\n",
              "      background-color: #E2EBFA;\n",
              "      box-shadow: 0px 1px 2px rgba(60, 64, 67, 0.3), 0px 1px 3px 1px rgba(60, 64, 67, 0.15);\n",
              "      fill: #174EA6;\n",
              "    }\n",
              "\n",
              "    [theme=dark] .colab-df-convert {\n",
              "      background-color: #3B4455;\n",
              "      fill: #D2E3FC;\n",
              "    }\n",
              "\n",
              "    [theme=dark] .colab-df-convert:hover {\n",
              "      background-color: #434B5C;\n",
              "      box-shadow: 0px 1px 3px 1px rgba(0, 0, 0, 0.15);\n",
              "      filter: drop-shadow(0px 1px 2px rgba(0, 0, 0, 0.3));\n",
              "      fill: #FFFFFF;\n",
              "    }\n",
              "  </style>\n",
              "\n",
              "      <script>\n",
              "        const buttonEl =\n",
              "          document.querySelector('#df-0959ebe2-68b0-4421-a860-d8fe7e5f1f41 button.colab-df-convert');\n",
              "        buttonEl.style.display =\n",
              "          google.colab.kernel.accessAllowed ? 'block' : 'none';\n",
              "\n",
              "        async function convertToInteractive(key) {\n",
              "          const element = document.querySelector('#df-0959ebe2-68b0-4421-a860-d8fe7e5f1f41');\n",
              "          const dataTable =\n",
              "            await google.colab.kernel.invokeFunction('convertToInteractive',\n",
              "                                                     [key], {});\n",
              "          if (!dataTable) return;\n",
              "\n",
              "          const docLinkHtml = 'Like what you see? Visit the ' +\n",
              "            '<a target=\"_blank\" href=https://colab.research.google.com/notebooks/data_table.ipynb>data table notebook</a>'\n",
              "            + ' to learn more about interactive tables.';\n",
              "          element.innerHTML = '';\n",
              "          dataTable['output_type'] = 'display_data';\n",
              "          await google.colab.output.renderOutput(dataTable, element);\n",
              "          const docLink = document.createElement('div');\n",
              "          docLink.innerHTML = docLinkHtml;\n",
              "          element.appendChild(docLink);\n",
              "        }\n",
              "      </script>\n",
              "    </div>\n",
              "  </div>\n",
              "  "
            ]
          },
          "metadata": {},
          "execution_count": 277
        }
      ]
    },
    {
      "cell_type": "markdown",
      "source": [
        "Define new categories to describe recency"
      ],
      "metadata": {
        "id": "YUM-n2Y22kz_"
      }
    },
    {
      "cell_type": "code",
      "source": [
        "# Create catplot\n",
        "g = sns.displot(x = 'recency_subscription', data = churn_df)\n",
        "\n",
        "# Set labels and title\n",
        "g.set_xlabels('Days since the last purchase')\n",
        "g.set_ylabels('Count')\n",
        "g.fig.suptitle('Corrected Recency Distribution', y = 1.05)\n",
        "\n",
        "plt.show()"
      ],
      "metadata": {
        "colab": {
          "base_uri": "https://localhost:8080/",
          "height": 543
        },
        "id": "d0CJ8f1B0EPw",
        "outputId": "4ae632e5-edf0-4bd9-9047-74b32801ad90"
      },
      "execution_count": 278,
      "outputs": [
        {
          "output_type": "display_data",
          "data": {
            "text/plain": [
              "<Figure size 500x500 with 1 Axes>"
            ],
            "image/png": "[encoded data removed]"
          },
          "metadata": {}
        }
      ]
    },
    {
      "cell_type": "code",
      "source": [
        "# Subset the data\n",
        "subsetted_churn_df = churn_df[(churn_df['churn'] == \"No\") & \n",
        "                              (churn_df['recency_subscription'] < churn_df['recency_subscription'].quantile(0.95))]\n",
        "\n",
        "# Create displot\n",
        "g = sns.displot(x='recency_subscription', data=subsetted_churn_df)\n",
        "\n",
        "# Set labels and title\n",
        "g.set(xlabel='Days since the last purchase', ylabel='Count')\n",
        "g.fig.suptitle('Corrected Recency Distribution (Non-Churned Clients)', y=1.05)\n",
        "\n",
        "# Show the plot\n",
        "plt.show()"
      ],
      "metadata": {
        "colab": {
          "base_uri": "https://localhost:8080/",
          "height": 543
        },
        "id": "UdDSEU57SKix",
        "outputId": "70377366-1bea-4b24-9932-ec1aa1fd82bd"
      },
      "execution_count": 279,
      "outputs": [
        {
          "output_type": "display_data",
          "data": {
            "text/plain": [
              "<Figure size 500x500 with 1 Axes>"
            ],
            "image/png": "[encoded data removed]"
          },
          "metadata": {}
        }
      ]
    },
    {
      "cell_type": "code",
      "source": [
        "# Subset the data to only include churned clients\n",
        "subsetted_churn_df = churn_df[(churn_df['churn'] == \"Yes\")]\n",
        "\n",
        "# Create a distribution plot with seaborn\n",
        "g = sns.displot(x='recency_subscription', data=subsetted_churn_df)\n",
        "\n",
        "# Set the labels for the x and y axis\n",
        "g.set(xlabel='Days since the last purchase', ylabel='Count')\n",
        "\n",
        "# Set the title and adjust its position\n",
        "g.fig.suptitle('Corrected Recency Distribution', y=1.05)\n",
        "\n",
        "# Show plot\n",
        "plt.show()"
      ],
      "metadata": {
        "id": "p862tUvMVRB5",
        "colab": {
          "base_uri": "https://localhost:8080/",
          "height": 543
        },
        "outputId": "01f1b231-3e93-462c-90cb-a5afa57ba800"
      },
      "execution_count": 280,
      "outputs": [
        {
          "output_type": "display_data",
          "data": {
            "text/plain": [
              "<Figure size 500x500 with 1 Axes>"
            ],
            "image/png": "[encoded data removed]"
          },
          "metadata": {}
        }
      ]
    },
    {
      "cell_type": "code",
      "source": [
        "# Define quantiles and bins\n",
        "quantile_25th = churn_df['recency_subscription'].quantile(0.25)\n",
        "quantile_75th = churn_df['recency_subscription'].quantile(0.75)\n",
        "bins = [-1, quantile_25th, quantile_75th, churn_df['recency_subscription'].max()]\n",
        "\n",
        "# Define labels for each category\n",
        "labels = ['0-28 days', '29-37 days', '38+ days']\n",
        "\n",
        "# Create a new column with the recency category\n",
        "churn_df['recency_category'] = pd.cut(churn_df['recency_subscription'], bins=bins, labels=labels)"
      ],
      "metadata": {
        "id": "5ak0rWmA1AnV"
      },
      "execution_count": 281,
      "outputs": []
    },
    {
      "cell_type": "code",
      "source": [
        "# Select only the churned clients\n",
        "churned_clients = churn_df[churn_df['churn'] == 'Yes']\n",
        "\n",
        "# Create a countplot with Seaborn\n",
        "sns.countplot(x='recency_category', data=churned_clients, color='#DE8F8F')\n",
        "\n",
        "# Set the title and x-axis label\n",
        "plt.title('Churned Clients by Recency Category')\n",
        "plt.xlabel('Recency Category')\n",
        "plt.ylabel('Count')\n",
        "\n",
        "# Add horizontal grid lines\n",
        "plt.grid(axis='y')\n",
        "\n",
        "# Show the plot\n",
        "plt.show()"
      ],
      "metadata": {
        "id": "CLs_CyAFPwns",
        "colab": {
          "base_uri": "https://localhost:8080/",
          "height": 480
        },
        "outputId": "a8872b5d-3b45-4edc-bb92-69bd2126452b"
      },
      "execution_count": 282,
      "outputs": [
        {
          "output_type": "display_data",
          "data": {
            "text/plain": [
              "<Figure size 640x480 with 1 Axes>"
            ],
            "image/png": "[encoded data removed]"
          },
          "metadata": {}
        }
      ]
    },
    {
      "cell_type": "code",
      "source": [
        "# Filter the DataFrame to include only churned and non-churned clients\n",
        "churned_df = churn_df[churn_df['churn'] == 'Yes']\n",
        "not_churned_df = churn_df[churn_df['churn'] == 'No']\n",
        "\n",
        "# Group the data by recency_category and calculate the percentage of churned and non-churned clients in each group\n",
        "churned_pct = churned_df.groupby('recency_category')['churn'].count() / len(churned_df)\n",
        "not_churned_pct = not_churned_df.groupby('recency_category')['churn'].count() / len(not_churned_df)\n",
        "\n",
        "# Merge the percentages for churned and non-churned clients into a single DataFrame\n",
        "pct_df = pd.concat([churned_pct, not_churned_pct], axis=1).reset_index()\n",
        "pct_df.columns = ['recency_category', 'Churned pct', 'Not Churned pct']\n",
        "\n",
        "# Melt the DataFrame to create a \"long\" format for Seaborn's bar plot\n",
        "melted_df = pct_df.melt(id_vars='recency_category', var_name='churned', value_name='percent')\n",
        "\n",
        "\n",
        "# Create the bar plot\n",
        "plt.figure(figsize=(10, 6))\n",
        "ax = sns.barplot(x='recency_category', y='percent', hue='churned', data=melted_df)\n",
        "\n",
        "# Add horizontal grid lines\n",
        "plt.grid(axis='y')\n",
        "\n",
        "# Add percentage annotations to the bars\n",
        "for p in ax.containers:\n",
        "    for q in p.patches:\n",
        "        x = q.get_x() + q.get_width() / 2\n",
        "        y = q.get_height()\n",
        "        ax.annotate('{:.1%}'.format(y), (x, y), ha='center', va='bottom')\n",
        "\n",
        "# Set the x and y labels\n",
        "ax.set_xlabel('Recency Category')\n",
        "ax.set_ylabel('Percentage')\n",
        "\n",
        "# Set the title\n",
        "ax.set_title('Churn Rate by Recency Category')\n",
        "\n",
        "legend = ax.get_legend()\n",
        "legend.set_title(\"\")\n",
        "\n",
        "# Show plot\n",
        "plt.show()"
      ],
      "metadata": {
        "id": "IQjZhk3hyjGD",
        "colab": {
          "base_uri": "https://localhost:8080/",
          "height": 573
        },
        "outputId": "47e7b390-bd0b-4da5-fdf4-3b1ee5df8baa"
      },
      "execution_count": 283,
      "outputs": [
        {
          "output_type": "display_data",
          "data": {
            "text/plain": [
              "<Figure size 1000x600 with 1 Axes>"
            ],
            "image/png": "[encoded data removed]"
          },
          "metadata": {}
        }
      ]
    },
    {
      "cell_type": "markdown",
      "source": [
        "Define new column 'subscription length' to see the relatioship between churned clients"
      ],
      "metadata": {
        "id": "OnSBrEEIe3it"
      }
    },
    {
      "cell_type": "code",
      "source": [
        "# Define a date and time.\n",
        "current_time = churn_df['last_date_purchase'].max()\n",
        "\n",
        "# Fill any missing values (if any) in the 'deleted_at' column with the defined time\n",
        "deleted_at = churn_df['deleted_at'].fillna(current_time)\n",
        "\n",
        "# Calculate the difference between the 'deleted_at' and 'created_at' columns to get the subscription duration \n",
        "subscription_duration = deleted_at - churn_df['created_at']\n",
        "\n",
        "# Extract only the days from the subscription duration\n",
        "subscription_days = subscription_duration.dt.days\n",
        "\n",
        "# Create a new column 'subscription_length'\n",
        "churn_df['subscription_length'] = subscription_days"
      ],
      "metadata": {
        "id": "pFi7-FJ2fEJR"
      },
      "execution_count": 284,
      "outputs": []
    },
    {
      "cell_type": "code",
      "source": [
        "churn_df.groupby('churn')['subscription_length'].mean()"
      ],
      "metadata": {
        "colab": {
          "base_uri": "https://localhost:8080/"
        },
        "id": "oS0HU8DQFKIB",
        "outputId": "69fee388-2c5a-4626-883f-9b2e81a966a5"
      },
      "execution_count": 285,
      "outputs": [
        {
          "output_type": "execute_result",
          "data": {
            "text/plain": [
              "churn\n",
              "No     936.570187\n",
              "Yes    471.700990\n",
              "Name: subscription_length, dtype: float64"
            ]
          },
          "metadata": {},
          "execution_count": 285
        }
      ]
    },
    {
      "cell_type": "code",
      "source": [
        "# Create boxplot\n",
        "g = sns.boxplot(x = 'churn', y = 'subscription_length', sym = \"\", data = churn_df)\n",
        "\n",
        "# Add horizontal grid\n",
        "g.yaxis.grid(True)\n",
        "\n",
        "# Set labels and title\n",
        "g.set_xlabel('Client Status')\n",
        "g.set_ylabel('Subscription Length (days)')\n",
        "g.set_title(\"Subscription Lengths by Churn Status\", fontsize = 14)\n",
        "\n",
        "# Add descriptive note to x-axis\n",
        "g.set(xticklabels=[\"Yes\", \"No\"])\n",
        "\n",
        "# Show plot\n",
        "plt.show()"
      ],
      "metadata": {
        "colab": {
          "base_uri": "https://localhost:8080/",
          "height": 481
        },
        "id": "tFmWl2driILS",
        "outputId": "49fa5901-aaed-4091-d79b-55056d864660"
      },
      "execution_count": 286,
      "outputs": [
        {
          "output_type": "display_data",
          "data": {
            "text/plain": [
              "<Figure size 640x480 with 1 Axes>"
            ],
            "image/png": "[encoded data removed]"
          },
          "metadata": {}
        }
      ]
    },
    {
      "cell_type": "code",
      "source": [
        "# Define quantiles and bins\n",
        "quantile_25th = churn_df['subscription_length'].quantile(0.25)\n",
        "median = churn_df['subscription_length'].median()\n",
        "quantile_75th = churn_df['subscription_length'].quantile(0.75)\n",
        "bins = [-1, quantile_25th, median, quantile_75th, churn_df['subscription_length'].max()]\n",
        "\n",
        "# Define labels for each category\n",
        "labels = ['0-460 days', '461-900 days', '901-1360 days', '1361+ days']\n",
        "\n",
        "# Create a new column with the recency category\n",
        "churn_df['subscription_category'] = pd.cut(churn_df['subscription_length'], bins=bins, labels=labels)"
      ],
      "metadata": {
        "id": "ngLC3n6lfbu6"
      },
      "execution_count": 287,
      "outputs": []
    },
    {
      "cell_type": "code",
      "source": [
        "# Filter the DataFrame to include only churned and non-churned clients\n",
        "churned_df = churn_df[churn_df['churn'] == 'Yes']\n",
        "not_churned_df = churn_df[churn_df['churn'] == 'No']\n",
        "\n",
        "# Group the data by subscription_category and calculate the percentage of churned and non-churned clients in each group\n",
        "churned_pct = churned_df.groupby('subscription_category')['churn'].count() / len(churned_df)\n",
        "not_churned_pct = not_churned_df.groupby('subscription_category')['churn'].count() / len(not_churned_df)\n",
        "\n",
        "# Merge the percentages for churned and non-churned clients into a single DataFrame\n",
        "pct_df = pd.concat([churned_pct, not_churned_pct], axis=1).reset_index()\n",
        "pct_df.columns = ['subscription_category', 'Churned pct', 'Not Churned pct']\n",
        "\n",
        "# Melt the DataFrame to create a \"long\" format for Seaborn's bar plot\n",
        "melted_df = pct_df.melt(id_vars='subscription_category', var_name='churned', value_name='percent')\n",
        "\n",
        "\n",
        "# Create the bar plot\n",
        "plt.figure(figsize=(10, 6))\n",
        "ax = sns.barplot(x='subscription_category', y='percent', hue='churned', data=melted_df)\n",
        "\n",
        "# Add horizontal grid lines\n",
        "plt.grid(axis='y')\n",
        "\n",
        "# Add percentage annotations to the bars\n",
        "for p in ax.containers:\n",
        "    for q in p.patches:\n",
        "        x = q.get_x() + q.get_width() / 2\n",
        "        y = q.get_height()\n",
        "        ax.annotate('{:.1%}'.format(y), (x, y), ha='center', va='bottom')\n",
        "\n",
        "# Set the x and y labels\n",
        "ax.set_xlabel('Subscription Length Category')\n",
        "ax.set_ylabel('Percentage')\n",
        "\n",
        "# Set the title\n",
        "ax.set_title('Churn Rate by Subscription Length')\n",
        "\n",
        "legend = ax.get_legend()\n",
        "legend.set_title(\"\")\n",
        "\n",
        "# Show plot\n",
        "plt.show()"
      ],
      "metadata": {
        "colab": {
          "base_uri": "https://localhost:8080/",
          "height": 573
        },
        "id": "bb_LHvMAfuLh",
        "outputId": "11df5d2b-3f95-4ad7-ad46-712d788faf23"
      },
      "execution_count": 288,
      "outputs": [
        {
          "output_type": "display_data",
          "data": {
            "text/plain": [
              "<Figure size 1000x600 with 1 Axes>"
            ],
            "image/png": "[encoded data removed]"
          },
          "metadata": {}
        }
      ]
    },
    {
      "cell_type": "markdown",
      "source": [
        "Analyze the version column"
      ],
      "metadata": {
        "id": "YH1l3R8gbMDR"
      }
    },
    {
      "cell_type": "code",
      "source": [
        "# Modify version column. Get only the first digit\n",
        "churn_df['version'] = churn_df['version'].apply(lambda version: version[0])\n",
        "\n",
        "# select only the rows where there are churned clientes\n",
        "churned_df = churn_df[churn_df['churn'] == 'Yes']\n",
        "\n",
        "# count the number of occurrences of each version among the customers who churned and sort the results\n",
        "churned_versions = churned_df['version'].value_counts().sort_index()\n",
        "\n",
        "# count the number of occurrences of each version in the entire dataset and sort the results\n",
        "all_versions = churn_df['version'].value_counts().sort_index()\n",
        "\n",
        "# calculate the ratio of each version among the customers who churned relative to the total customers\n",
        "version_churn_ratio = churned_versions / all_versions\n",
        "\n",
        "# print the ratio of each version among the customers who churned\n",
        "print(version_churn_ratio)"
      ],
      "metadata": {
        "colab": {
          "base_uri": "https://localhost:8080/"
        },
        "id": "carYsqobYibb",
        "outputId": "e2c923ba-1b0e-489e-f76a-9696fb942927"
      },
      "execution_count": 289,
      "outputs": [
        {
          "output_type": "stream",
          "name": "stdout",
          "text": [
            "0    0.090909\n",
            "1    0.065000\n",
            "2    0.064467\n",
            "3    0.049002\n",
            "4    0.049185\n",
            "5    0.045622\n",
            "6    0.065116\n",
            "7    0.076923\n",
            "Name: version, dtype: float64\n"
          ]
        }
      ]
    },
    {
      "cell_type": "markdown",
      "source": [
        "Analyze the state and city columns"
      ],
      "metadata": {
        "id": "ShAD2SB3cFi9"
      }
    },
    {
      "cell_type": "code",
      "source": [
        "churn_df['state'].value_counts()"
      ],
      "metadata": {
        "colab": {
          "base_uri": "https://localhost:8080/"
        },
        "id": "RbhkhSf7dCb5",
        "outputId": "9d95b679-6bf9-46b0-ec01-72ad4a7919a4"
      },
      "execution_count": 290,
      "outputs": [
        {
          "output_type": "execute_result",
          "data": {
            "text/plain": [
              "GO    397\n",
              "TO    396\n",
              "RR    389\n",
              "PR    379\n",
              "RO    376\n",
              "RJ    372\n",
              "RS    372\n",
              "AP    371\n",
              "CE    371\n",
              "AM    369\n",
              "MG    368\n",
              "MT    367\n",
              "MS    366\n",
              "PE    366\n",
              "SC    365\n",
              "PB    363\n",
              "SE    361\n",
              "BA    360\n",
              "AC    356\n",
              "MA    353\n",
              "DF    351\n",
              "SP    350\n",
              "RN    348\n",
              "ES    345\n",
              "AL    343\n",
              "PA    340\n",
              "PI    329\n",
              "Name: state, dtype: int64"
            ]
          },
          "metadata": {},
          "execution_count": 290
        }
      ]
    },
    {
      "cell_type": "code",
      "source": [
        "# select only the rows where the value in the 'churn' column is 'Yes'\n",
        "churned_df = churn_df[churn_df['churn'] == 'Yes']\n",
        "\n",
        "# count the number of occurrences of each state among the customers who churned\n",
        "churned_states = churned_df['state'].value_counts().sort_index()\n",
        "\n",
        "# count the number of occurrences of each state in the entire dataset\n",
        "all_states = churn_df['state'].value_counts().sort_index()\n",
        "\n",
        "# calculate the ratio of each state among the customers who churned\n",
        "state_churn_ratio = churned_states / all_states\n",
        "\n",
        "# print the ratio of each software version among the customers who churned\n",
        "print(state_churn_ratio)"
      ],
      "metadata": {
        "colab": {
          "base_uri": "https://localhost:8080/"
        },
        "id": "LN7BF3-UZfhv",
        "outputId": "ac88a034-215e-4776-dae9-9d57eaa3637f"
      },
      "execution_count": 291,
      "outputs": [
        {
          "output_type": "stream",
          "name": "stdout",
          "text": [
            "AC    0.044944\n",
            "AL    0.064140\n",
            "AM    0.062331\n",
            "AP    0.040431\n",
            "BA    0.055556\n",
            "CE    0.051213\n",
            "DF    0.042735\n",
            "ES    0.034783\n",
            "GO    0.052897\n",
            "MA    0.065156\n",
            "MG    0.051630\n",
            "MS    0.054645\n",
            "MT    0.065395\n",
            "PA    0.064706\n",
            "PB    0.038567\n",
            "PE    0.054645\n",
            "PI    0.033435\n",
            "PR    0.044855\n",
            "RJ    0.043011\n",
            "RN    0.043103\n",
            "RO    0.045213\n",
            "RR    0.059126\n",
            "RS    0.067204\n",
            "SC    0.032877\n",
            "SE    0.066482\n",
            "SP    0.045714\n",
            "TO    0.060606\n",
            "Name: state, dtype: float64\n"
          ]
        }
      ]
    },
    {
      "cell_type": "code",
      "source": [
        "churn_df['city'].value_counts()[:20]"
      ],
      "metadata": {
        "colab": {
          "base_uri": "https://localhost:8080/"
        },
        "id": "ghAD_AXcScem",
        "outputId": "a840e7ee-8d6e-48e6-9e83-e178a8d63df1"
      },
      "execution_count": 292,
      "outputs": [
        {
          "output_type": "execute_result",
          "data": {
            "text/plain": [
              " Cardoso       158\n",
              " Rocha          89\n",
              " Farias         85\n",
              " Ribeiro        83\n",
              " da Mota        81\n",
              " Monteiro       81\n",
              " Silveira       80\n",
              " Nascimento     80\n",
              " Silva          80\n",
              " Aragão         78\n",
              " Lopes          78\n",
              " Nunes          77\n",
              " Gonçalves      77\n",
              " Novaes         77\n",
              " Dias           77\n",
              " Campos         76\n",
              " Correia        76\n",
              " Costa          76\n",
              " Teixeira       76\n",
              " Melo           76\n",
              "Name: city, dtype: int64"
            ]
          },
          "metadata": {},
          "execution_count": 292
        }
      ]
    },
    {
      "cell_type": "code",
      "source": [
        "churn_df[churn_df['churn'] == 'Yes'].groupby('city')['churn'].count().sort_values(ascending = False)[:20]"
      ],
      "metadata": {
        "colab": {
          "base_uri": "https://localhost:8080/"
        },
        "id": "gt1SMQEWO2Ht",
        "outputId": "166d4754-b0bb-4307-b80c-7a7ba9d128de"
      },
      "execution_count": 293,
      "outputs": [
        {
          "output_type": "execute_result",
          "data": {
            "text/plain": [
              "city\n",
              " Ribeiro      9\n",
              " das Neves    7\n",
              " Rocha        7\n",
              " Moraes       7\n",
              " Monteiro     7\n",
              " Porto        7\n",
              " da Costa     6\n",
              " da Cunha     6\n",
              " da Rosa      6\n",
              " Jesus        6\n",
              " Teixeira     5\n",
              " Caldeira     5\n",
              " da Mata      5\n",
              " Sales        5\n",
              " Cardoso      5\n",
              " Gonçalves    5\n",
              " Martins      5\n",
              " Nogueira     5\n",
              " Dias         4\n",
              " Rezende      4\n",
              "Name: churn, dtype: int64"
            ]
          },
          "metadata": {},
          "execution_count": 293
        }
      ]
    },
    {
      "cell_type": "markdown",
      "source": [
        "Analyze the status colum"
      ],
      "metadata": {
        "id": "6LUoEihmd4wC"
      }
    },
    {
      "cell_type": "code",
      "source": [
        "churn_df['status'].value_counts()"
      ],
      "metadata": {
        "colab": {
          "base_uri": "https://localhost:8080/"
        },
        "id": "JBhKgQDWThKx",
        "outputId": "1c79578d-5f7d-4905-9e6c-aa7648a7549a"
      },
      "execution_count": 294,
      "outputs": [
        {
          "output_type": "execute_result",
          "data": {
            "text/plain": [
              "active      8370\n",
              "paused       948\n",
              "canceled     505\n",
              "Name: status, dtype: int64"
            ]
          },
          "metadata": {},
          "execution_count": 294
        }
      ]
    },
    {
      "cell_type": "markdown",
      "source": [
        "Analyze Market source"
      ],
      "metadata": {
        "id": "BjWF4kRhhZ-O"
      }
    },
    {
      "cell_type": "code",
      "source": [
        "# Create countplot with hue\n",
        "ax = sns.countplot(x='marketing_source', data=churn_df, hue='churn')\n",
        "\n",
        "# Set tick labels and rotate\n",
        "ax.set_xticklabels(['Organic Search', 'Direct', 'Paid Search', 'Telegram Whatsapp', 'Crm', 'None'], rotation=45)\n",
        "\n",
        "# Set labels and title\n",
        "ax.set(xlabel='Marketing Source', ylabel='Count')\n",
        "plt.title('Churn Distribution by Marketing Source')\n",
        "\n",
        "legend = ax.get_legend()\n",
        "legend.set_title(\"Churn\")\n",
        "\n",
        "# Show plot\n",
        "plt.show()"
      ],
      "metadata": {
        "colab": {
          "base_uri": "https://localhost:8080/",
          "height": 583
        },
        "id": "SpcnQlThhdAl",
        "outputId": "ea1f22a3-0987-4c04-9253-76eea88ea5bd"
      },
      "execution_count": 295,
      "outputs": [
        {
          "output_type": "display_data",
          "data": {
            "text/plain": [
              "<Figure size 640x480 with 1 Axes>"
            ],
            "image/png": "[encoded data removed]"
          },
          "metadata": {}
        }
      ]
    },
    {
      "cell_type": "code",
      "source": [
        "churn_df['marketing_source'].value_counts()"
      ],
      "metadata": {
        "colab": {
          "base_uri": "https://localhost:8080/"
        },
        "id": "bDKvIWG0iTmN",
        "outputId": "5b63b95a-9064-4003-e932-96e9d3a5ad23"
      },
      "execution_count": 296,
      "outputs": [
        {
          "output_type": "execute_result",
          "data": {
            "text/plain": [
              "organic_search       3641\n",
              "direct               2114\n",
              "paid_search          1497\n",
              "telegram_whatsapp    1050\n",
              "crm                  1004\n",
              "none                  517\n",
              "Name: marketing_source, dtype: int64"
            ]
          },
          "metadata": {},
          "execution_count": 296
        }
      ]
    },
    {
      "cell_type": "markdown",
      "source": [
        "Relationship between when the subscription was signed and churned clients"
      ],
      "metadata": {
        "id": "rVbswV4ynDDJ"
      }
    },
    {
      "cell_type": "code",
      "source": [
        "# Create a year column for each customer\n",
        "churn_df['created_year'] = churn_df['created_at'].dt.year"
      ],
      "metadata": {
        "id": "GIuMrJEIy8sz"
      },
      "execution_count": 297,
      "outputs": []
    },
    {
      "cell_type": "code",
      "source": [
        "# Create catplot\n",
        "g = sns.catplot(x = 'created_year', kind = 'count', data = churn_df, hue = 'churn', height= 4, aspect = 1.5)\n",
        "\n",
        "# Set labels and title\n",
        "g.set_xlabels('Created Year')\n",
        "g.set_ylabels('Count')\n",
        "g.fig.suptitle('Churn Distribution by Created Year', y = 1.05)\n",
        "\n",
        "# Add horizontal grid\n",
        "g.ax.yaxis.grid(True)\n",
        "\n",
        "# Rotate ticks\n",
        "g.set_xticklabels(rotation = 45)\n",
        "g._legend.set_title('Churn')\n",
        "\n",
        "# Add spines\n",
        "sns.despine(ax = g.ax, top = False, right = False)\n",
        "\n",
        "plt.show()"
      ],
      "metadata": {
        "colab": {
          "base_uri": "https://localhost:8080/",
          "height": 461
        },
        "id": "rRQhDwUoup-H",
        "outputId": "625fc21a-36dd-4488-f799-7fcf5bba8bba"
      },
      "execution_count": 298,
      "outputs": [
        {
          "output_type": "display_data",
          "data": {
            "text/plain": [
              "<Figure size 679.75x400 with 1 Axes>"
            ],
            "image/png": "[encoded data removed]"
          },
          "metadata": {}
        }
      ]
    },
    {
      "cell_type": "markdown",
      "source": [
        "Heatmap to show the correlation"
      ],
      "metadata": {
        "id": "vj84FR6gW5Uz"
      }
    },
    {
      "cell_type": "code",
      "source": [
        "# Convert churn values to binary\n",
        "corr_churn = churn_df.copy()\n",
        "corr_churn['churn'] = corr_churn['churn'].apply(lambda value: 1 if value == 'Yes' else 0)\n",
        "\n",
        "# Create heatmap\n",
        "fig, ax = plt.subplots(figsize=(10, 8))\n",
        "sns.heatmap(corr_churn.corr(), cmap=\"RdBu\", vmin=-1, vmax=1, annot=True, fmt='.2f', linewidths=.5, ax=ax)\n",
        "\n",
        "# Set title and adjust layout\n",
        "ax.set_title('Correlation Matrix of Churn Dataset', fontsize=18, pad=20)\n",
        "plt.subplots_adjust(top=0.95, bottom=0.15, left=0.15, right=0.95)\n",
        "\n",
        "# Set labels\n",
        "ax.set_xlabel('Features', fontsize=14)\n",
        "ax.set_ylabel('Features', fontsize=14)\n",
        "\n",
        "# Show plot\n",
        "plt.show()"
      ],
      "metadata": {
        "id": "zQsZDfy1XFHp",
        "colab": {
          "base_uri": "https://localhost:8080/",
          "height": 978
        },
        "outputId": "37c0073e-1236-46d6-9056-b85b0a569b6b"
      },
      "execution_count": 299,
      "outputs": [
        {
          "output_type": "stream",
          "name": "stderr",
          "text": [
            "<ipython-input-299-e1930ace83aa>:7: FutureWarning: The default value of numeric_only in DataFrame.corr is deprecated. In a future version, it will default to False. Select only valid columns or specify the value of numeric_only to silence this warning.\n",
            "  sns.heatmap(corr_churn.corr(), cmap=\"RdBu\", vmin=-1, vmax=1, annot=True, fmt='.2f', linewidths=.5, ax=ax)\n"
          ]
        },
        {
          "output_type": "display_data",
          "data": {
            "text/plain": [
              "<Figure size 1000x800 with 2 Axes>"
            ],
            "image/png": "[encoded data removed]"
          },
          "metadata": {}
        }
      ]
    }
  ]
}